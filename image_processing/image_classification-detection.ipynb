{
 "cells": [
  {
   "cell_type": "markdown",
   "id": "266d89b7-648e-42e2-944e-0857e59df794",
   "metadata": {},
   "source": [
    "## Calzada Jasso Andres Geovani *<span style = \"color : Blue\" > 23265539 </span>*"
   ]
  },
  {
   "cell_type": "markdown",
   "id": "46deea98-b11e-4053-971d-558e9b4b5977",
   "metadata": {},
   "source": [
    "### *<span style = \"color : #E3182E\" >Práctica 2: Sensado y análisis de video</span>*\n",
    "\n",
    "#### *<span style = \"color : #01A9DB\" >Detección de puntos de atención visual</span>*\n",
    "\n",
    "En el curso de CDSI se realizó la siguiente práctica, en la cual se llevo a cabo la recolección de videos. \n",
    "\n",
    "El primer caso el cual consiste en la recolección de datos de video consta en colocar una cámara a la altura de los ojos. Donde se debe de alternar la mirada hacia: 1. Frente, 2. Izquierdo, 3. Derecho, 4. Retrovisor, 5. Palanca.\n",
    "\n",
    "El segundo paso consta de la segmentación de los videos. Donde se deben de etoquetas los momentos de los PAV de los archivos de video de cada estudiante. Donde se debe de realizar una segmentación automática de cada video\n",
    "\n",
    "El tercer paso el cual es la extracción y selección de características consta de extraer los landmarks de la cara en los videos utilizando modelos de seguimiento como MediaPipe u OpenPose, donde se debe de realizar un dataFrame con los landmarks extraídos en cada instancia.\n",
    "\n",
    "El cuarto paso es la construcción y evaluación de modelos. En esta parte se debe de generar un modelo de detección de PAV's, utilizando los modelos de validación cruzada y analizar los videos mal clasificados.\n",
    "\n",
    "El quinto paso consta de la validación externa, donde se debe de evaluar nuevos videos en tiempos reales para determinar el desempeño del detector de PAV's.\n",
    "\n",
    "<img src=\"https://www.aao.org/image.axd?id=982789ad-2c7a-4d7e-acd7-87285e9c4a7d&t=636760073444630000\">\n",
    "\n"
   ]
  },
  {
   "cell_type": "markdown",
   "id": "a231a943-18b8-4c75-8719-1f767b970e72",
   "metadata": {
    "tags": []
   },
   "source": [
    "# **<span style=\"color:#0000FF\">1. Recolección de datos de audio</span>**\n",
    "\n",
    "<div style=\" font-style: italic;\">\n",
    "\n",
    "En esta sección del código se crea el diccionario d el cual tiene los PAV's y los valores de cada punto de atención visual son los tiempos en los que se enfoco la atención en estos puntos.\n",
    "    \n",
    "Posteriormente se crea un DataFrame a partir del diccionario d. Los puntos de atención visual se convierten en las columnas del DataFrame y los tiempos se convierten en las filas.\n",
    "    \n",
    "Por último la función de to_csv guarda el DataFrame en un archivo CSV con el nombre de ANDRES.csv en la carpeta indicada.\n",
    "</div>\n",
    "\n",
    "#### *<span style=\"color:red\">Para fines prácticos este codigo estará comentado para que el archivo .csv no se este generando cada vez que el código de ejecute </span>*"
   ]
  },
  {
   "cell_type": "code",
   "execution_count": null,
   "id": "3a873d63-d9d2-4f64-81c6-8528925ec4d9",
   "metadata": {
    "tags": []
   },
   "outputs": [],
   "source": [
    "\n",
    "import pandas as pd\n",
    "# Crear un diccionario con las clases y los valores\n",
    "d = {\n",
    "    \"FRENTE\": [\"00:00 - 00:08\", \"00:14-00:16\", \"00:22-00:23\", \"00:29-00:36\"],\n",
    "    \"RETROVISOR\": [\"00:24-00:28\", \"00:58-00:60\", None, None],\n",
    "    \"IZQUIERDA\": [\"00:09- 00:13\", \"00:45-00:48\", None, None],\n",
    "    \"DERECHA\": [\"00:17-00:21\", \"00:51-00:56\", None, None],\n",
    "    \"PALANCA\": [\"00:37-00:43\", None, None, None]\n",
    "}\n",
    "\n",
    "# Crear un dataframe con el diccionario\n",
    "df = pd.DataFrame(d)\n",
    "\n",
    "# Mostrar el dataframe\n",
    "print(df)\n",
    "df.to_csv(\"Videos/Crudos/ANDRES.csv\")\n"
   ]
  },
  {
   "cell_type": "markdown",
   "id": "e988624e-0838-4d69-8e24-73a4edc6fd6d",
   "metadata": {
    "tags": []
   },
   "source": [
    "# **<span style=\"color:#0000FF\">2. Segmentación de videos </span>**\n",
    "\n",
    "<div style=\" font-style: italic;\">\n",
    "\n",
    "La segmentación de los videos correspondientes a los tiempos en los que sucede cada PAV se realiza en el siguiente apartado, donde se encarga de procesar el archivo .cvs y los videos correspondientes, se extraen y guardan segmentos segun las clases especificadas en el CSV. Para una mejor claridad vamos a realizar un análisis paso a paso de este código.\n",
    "1. Configuración de logging: Limita los mensajes del paquete del moviepy a advertencias o errores\n",
    "\n",
    "2. Funcion time_to_seconds: Convierte cadenas de tiempo con formarto hh:mm:ss o mm:ss a segundos para la segmebtación de los videos \n",
    "\n",
    "3. La función ensure_dir: verifica si existe un directorio y lo crea si es necesario\n",
    "    \n",
    "4. Diccionario directories: Establece directorios de salida para cada PAV\n",
    "    \n",
    "5. Creación de directorios: Verifica y crea los directorios para cada categoría.\n",
    "    \n",
    "6. Función process_file:\n",
    "\n",
    "    -Lee el archivo CSV con pandas.\n",
    "    \n",
    "    -Itera por cada categoría identificada en el CSV.\n",
    "    \n",
    "    -Extrae los intervalos de tiempo para la categoría actual.\n",
    "    \n",
    "    -Convierte los intervalos a segundos (si no están vacíos).\n",
    "    \n",
    "    -Construye un nombre de archivo para el segmento con categoría y número de segmento.\n",
    "    \n",
    "    -Utiliza ffmpeg_extract_subclip (no incluido en el código) para extraer el segmento del video original y guardarlo en el directorio correspondiente.\n",
    "\n",
    "7. Ruta de origen: Especifica el directorio principal con archivos CSV y videos.\n",
    "\n",
    "8. Listado de archivos CSV: Encuentra todos los archivos CSV en el directorio de origen.\n",
    "\n",
    "9.Procesamiento de archivos:\n",
    "\n",
    "    -Itera por cada archivo CSV.\n",
    "    \n",
    "    -Construye la ruta del archivo CSV y la ruta del video correspondiente (agregando \".MP4\").\n",
    "    \n",
    "    -Llama a la función process_file para ese archivo y video.\n",
    "\n",
    "\n",
    "    En resumen este código nos permite extraer egmentos de video especificos basados información de clases y tiempos proporcionados en un archivo .CSV. Este código necesita la funcionalidad de ffmpeg_extract_subclip de una biblioteca externa para completar el proceso de extracción.\n",
    "    \n",
    "\n",
    "</div>"
   ]
  },
  {
   "cell_type": "code",
   "execution_count": null,
   "id": "12138516-2fd2-423f-9941-b741899fd2d5",
   "metadata": {
    "tags": []
   },
   "outputs": [],
   "source": [
    "import mediapipe as mp\n",
    "import os\n",
    "import cv2\n",
    "import matplotlib.pyplot as plt\n",
    "import pandas as pd\n",
    "from moviepy.editor import VideoFileClip\n",
    "from moviepy.video.io.ffmpeg_tools import ffmpeg_extract_subclip"
   ]
  },
  {
   "cell_type": "code",
   "execution_count": null,
   "id": "34aea851-c3c7-4c09-a620-db8575effb1c",
   "metadata": {
    "tags": []
   },
   "outputs": [],
   "source": [
    "# Función para convertir tiempos en segundos\n",
    "def time_to_seconds(time_str):\n",
    "    if pd.isna(time_str):\n",
    "        return []\n",
    "    times = time_str.split('-')\n",
    "    result = []\n",
    "    for t in times:\n",
    "        parts = t.strip().split(':')\n",
    "        if len(parts) == 2:  # Solo minutos y segundos\n",
    "            m, s = map(int, parts)\n",
    "            result.append(m * 60 + s)\n",
    "        elif len(parts) == 3:  # Horas, minutos y segundos\n",
    "            h, m, s = map(int, parts)\n",
    "            result.append(h * 3600 + m * 60 + s)\n",
    "        else:\n",
    "            return []\n",
    "    return result\n",
    "\n",
    "# Función para asegurar la existencia del directorio\n",
    "def ensure_dir(directory):\n",
    "    if not os.path.exists(directory):\n",
    "        os.makedirs(directory)\n",
    "\n",
    "# Directorios para cada categoría\n",
    "directories = {\n",
    "    'FRENTE': './Videos/Frente',\n",
    "    'DERECHA': './Videos/Derecha',\n",
    "    'IZQUIERDA': './Videos/Izquierda',\n",
    "    'PALANCA': './Videos/Palanca',\n",
    "    'RETROVISOR': './Videos/Retrovisor',\n",
    "}\n",
    "\n",
    "# Asegurar la existencia de los directorios\n",
    "for directory in directories.values():\n",
    "    ensure_dir(directory)\n",
    "\n",
    "# Función para procesar un archivo .csv y su video correspondiente\n",
    "def process_file(csv_file_path, video_file_path):\n",
    "    df = pd.read_csv(csv_file_path)\n",
    "    for category, directory in directories.items():\n",
    "        segments = []\n",
    "        for time_range in df[category]:\n",
    "            if pd.notna(time_range):\n",
    "                start_end = time_to_seconds(time_range)\n",
    "                if start_end:\n",
    "                    segments.append(start_end)\n",
    "        for i, (start, end) in enumerate(segments):\n",
    "            output_path = os.path.join(directory, f'{os.path.splitext(os.path.basename(csv_file_path))[0]}{category}_segment{i+1}.mp4')\n",
    "            ffmpeg_extract_subclip(video_file_path, start, end, targetname=output_path)\n",
    "\n",
    "# Directorio donde están los archivos .csv y los videos\n",
    "source_directory = './Videos/Crudos/'\n",
    "\n",
    "# Listar todos los archivos .csv en el directorio\n",
    "csv_files = [f for f in os.listdir(source_directory) if f.endswith('.csv')]\n",
    "\n",
    "# Procesar cada archivo .csv y su video correspondiente\n",
    "for csv_file in csv_files:\n",
    "    csv_file_path = os.path.join(source_directory, csv_file)\n",
    "    video_file_path = os.path.join(source_directory, os.path.splitext(csv_file)[0] + '.MP4')\n",
    "    process_file(csv_file_path, video_file_path)"
   ]
  },
  {
   "cell_type": "markdown",
   "id": "22efe48e-8eed-480e-9b33-9c6250b283d3",
   "metadata": {
    "tags": []
   },
   "source": [
    "\n",
    "# **<span style=\"color:#0000FF\">3. Extracción y selección de características</span>**\n",
    "\n",
    "<div style=\" font-style: italic;\">\n",
    "1. Inicialización de la detección de rostros:\n",
    "\n",
    "    -Carga la solución de detección de rostros de MediaPipe.\n",
    "    \n",
    "    -Crea un objeto FaceDetection con un modelo específico y un umbral de confianza mínimo\n",
    "    \n",
    "2. Función para procesar un video:\n",
    "\n",
    "*Toma como entrada la ruta del video y una lista vacía para almacenar las detecciones.\n",
    "    \n",
    "*Abre el video con OpenCV.\n",
    "    \n",
    "*Recorre cada cuadro del video:\n",
    "    \n",
    "        -Convierte el cuadro a formato RGB (requerido por MediaPipe).\n",
    "    \n",
    "        -Aplica la detección de rostros al cuadro.\n",
    "    \n",
    "        -Si se encuentran rostros:\n",
    "    \n",
    "            +Para cada rostro detectado:\n",
    "    \n",
    "                #Obtiene el cuadro delimitador relativo (bounding box) del rostro.\n",
    "    \n",
    "                #Extrae los puntos clave (landmarks) relativos del rostro.\n",
    "    \n",
    "                #Crea un diccionario con la información de la detección:\n",
    "    \n",
    "                    -Nombre del video.\n",
    "    \n",
    "                    -Coordenadas del cuadro delimitador.\n",
    "    \n",
    "                    -Coordenadas de los puntos clave.\n",
    "    \n",
    "                #Agrega el diccionario a la lista de detecciones.\n",
    "    \n",
    "*Cierra el video.\n",
    "    \n",
    "    \n",
    "    En resumen, el código procesa un video, detecta rostros en cada cuadro y almacena la información de los rostros detectados (cuadro delimitador y puntos clave) en una lista.\n",
    "\n",
    "</div>"
   ]
  },
  {
   "cell_type": "code",
   "execution_count": null,
   "id": "b128e1bb-f97e-4ba8-ba9f-a259ad8fb89f",
   "metadata": {
    "tags": []
   },
   "outputs": [],
   "source": [
    "# Inicializar MediaPipe Face Detection\n",
    "mp_face_detection = mp.solutions.face_detection\n",
    "face_detection = mp_face_detection.FaceDetection(model_selection=1, min_detection_confidence=0.5)\n",
    "\n",
    "\n",
    "# Función para procesar un único video\n",
    "def process_video(video_path, all_detections):\n",
    "    cap = cv2.VideoCapture(video_path)\n",
    "    if not cap.isOpened():\n",
    "        print(f\"Error al cargar el video {video_path}.\")\n",
    "        return\n",
    "    \n",
    "    while cap.isOpened():\n",
    "        ret, frame = cap.read()\n",
    "        if not ret:\n",
    "            break\n",
    "\n",
    "        frame_rgb = cv2.cvtColor(frame, cv2.COLOR_BGR2RGB)\n",
    "        results = face_detection.process(frame_rgb)\n",
    "\n",
    "        if results.detections:\n",
    "            for detection in results.detections:\n",
    "                bboxC = detection.location_data.relative_bounding_box\n",
    "                xmin = bboxC.xmin\n",
    "                ymin = bboxC.ymin\n",
    "                width = bboxC.width\n",
    "                height = bboxC.height\n",
    "\n",
    "                landmarks_relative = {}\n",
    "                keypoints = detection.location_data.relative_keypoints\n",
    "\n",
    "                for i, keypoint in enumerate(keypoints):\n",
    "                    relative_x = keypoint.x\n",
    "                    relative_y = keypoint.y\n",
    "\n",
    "                    landmarks_relative[f\"landmark_{i}_x\"] = relative_x\n",
    "                    landmarks_relative[f\"landmark_{i}_y\"] = relative_y\n",
    "                \n",
    "                detection_data = {\n",
    "                    \"video_name\": os.path.basename(video_path),\n",
    "                    \"xmin\": xmin,\n",
    "                    \"ymin\": ymin,\n",
    "                    \"width\": width,\n",
    "                    \"height\": height,\n",
    "                }\n",
    "                \n",
    "                detection_data.update(landmarks_relative)\n",
    "                all_detections.append(detection_data)\n",
    "\n",
    "    cap.release()\n"
   ]
  },
  {
   "cell_type": "markdown",
   "id": "a5debf52-ef03-4ebb-a2a7-3a75eb8270d8",
   "metadata": {},
   "source": [
    "#### *<span style = \"color : #01A9DB\" >Para los videos segmentados correspondientes a la carpeta de \"Derecha\"</span>*\n",
    "\n",
    "1. Directorio de videos:\n",
    "    * Se define el directorio que contiene los videos que se procesarán \n",
    "2. Lista para almacenar detecciones:\n",
    "    * Se creauna lista vacía para almacenar la información de las detecciones de todos los videos \n",
    "3. Bucle para procesar los videos:\n",
    "    * Se recorre cada archivo en el directorio especificado \n",
    "    * Si el archivo es un video (.mp4)\n",
    "    \n",
    "        #Se llama a la función process_video con la ruta del archivo y la lista de detecciones\n",
    "\n",
    "4. Almacenamiento de datos:\n",
    "    * Se crea un DataFrame de pandas con la información de todas las detecciones acumuladas \n",
    "    * Se guarda el DataFrame en un archivo .csv con el nombre de \"landmark_Derecha.cvs\" en el mismo directorio que los videos \n",
    "\n",
    "5. Mensaje final:\n",
    "    * Se muestra un mensaje con la ruta del archivo CSV donde se han almacenado todas las detecciones y puntos de referenci relativos.\n",
    "    \n",
    "Resumen \n",
    "\n",
    "El código procesa todos los videos dentro del directorio especificado, detecta rostros en cada uno y guarda la información de las detecciones (coordenadas del cuadro delimitador y puntos clave) en un único archivo CSV\n",
    "\n",
    "Es importante mencionar que el código depende de la función process_video que se ha explicado en la celda anterior.\n",
    "        "
   ]
  },
  {
   "cell_type": "code",
   "execution_count": null,
   "id": "7d12fb3b",
   "metadata": {
    "tags": []
   },
   "outputs": [],
   "source": [
    "# Directorio que contiene los videos\n",
    "video_dir = \"Videos/Derecha\"\n",
    "all_detections = []\n",
    "\n",
    "# Procesar cada video en el directorio y acumular los resultados\n",
    "for video_file in os.listdir(video_dir):\n",
    "    video_path = os.path.join(video_dir, video_file)\n",
    "    if os.path.isfile(video_path) and video_path.endswith('.mp4'):\n",
    "        process_video(video_path, all_detections)\n",
    "\n",
    "\n",
    "\n",
    "\n",
    "# Guardar todos los datos acumulados en un único archivo CSV\n",
    "csv_filename = os.path.join(video_dir, \"landmarks_Derecha.csv\")\n",
    "df = pd.DataFrame(all_detections)\n",
    "\n",
    "# Agrega el nombre de la clase la cual se quiere agregar al archivo final de .csv\n",
    "class_name = \"Derecha\"  \n",
    "df['class'] = class_name   \n",
    "\n",
    "df.to_csv(csv_filename, index=False)\n",
    "print(f\"Todas las detecciones y puntos de referencia relativos de todos los videos se almacenan en: {csv_filename}\")\n"
   ]
  },
  {
   "cell_type": "markdown",
   "id": "7ef28a15-fef4-4abe-a14d-78fc3bd1d745",
   "metadata": {},
   "source": [
    "#### *<span style = \"color : #01A9DB\" >Para los videos segmentados correspondientes a la carpeta de \"Frente\"</span>*\n",
    "\n",
    "1. Directorio de videos:\n",
    "    * Se define el directorio que contiene los videos que se procesarán \n",
    "2. Lista para almacenar detecciones:\n",
    "    * Se creauna lista vacía para almacenar la información de las detecciones de todos los videos \n",
    "3. Bucle para procesar los videos:\n",
    "    * Se recorre cada archivo en el directorio especificado \n",
    "    * Si el archivo es un video (.mp4)\n",
    "    \n",
    "        #Se llama a la función process_video con la ruta del archivo y la lista de detecciones\n",
    "\n",
    "4. Almacenamiento de datos:\n",
    "    * Se crea un DataFrame de pandas con la información de todas las detecciones acumuladas \n",
    "    * Se guarda el DataFrame en un archivo .csv con el nombre de \"landmark_Frente.cvs\" en el mismo directorio que los videos \n",
    "\n",
    "5. Mensaje final:\n",
    "    * Se muestra un mensaje con la ruta del archivo CSV donde se han almacenado todas las detecciones y puntos de referenci relativos.\n",
    "    \n",
    "Resumen \n",
    "\n",
    "El código procesa todos los videos dentro del directorio especificado, detecta rostros en cada uno y guarda la información de las detecciones (coordenadas del cuadro delimitador y puntos clave) en un único archivo CSV\n",
    "\n",
    "Es importante mencionar que el código depende de la función process_video que se ha explicado en la celda anterior."
   ]
  },
  {
   "cell_type": "code",
   "execution_count": null,
   "id": "ae60f1a8-6c47-4dc9-bae6-4041cfac2ccc",
   "metadata": {
    "tags": []
   },
   "outputs": [],
   "source": [
    "# Directorio que contiene los videos\n",
    "video_dir = \"Videos/Frente\"\n",
    "all_detections = []\n",
    "\n",
    "# Procesar cada video en el directorio y acumular los resultados\n",
    "for video_file in os.listdir(video_dir):\n",
    "    video_path = os.path.join(video_dir, video_file)\n",
    "    if os.path.isfile(video_path) and video_path.endswith('.mp4'):\n",
    "        process_video(video_path, all_detections)\n",
    "\n",
    "# Guardar todos los datos acumulados en un único archivo CSV\n",
    "csv_filename = os.path.join(video_dir, \"landmarks_Frente.csv\")\n",
    "df = pd.DataFrame(all_detections)\n",
    "\n",
    "# Agrega el nombre de la clase la cual se quiere agregar al archivo final de .csv\n",
    "class_name = \"Frente\"  \n",
    "df['class'] = class_name   \n",
    "\n",
    "df.to_csv(csv_filename, index=False)\n",
    "print(f\"Todas las detecciones y puntos de referencia relativos de todos los videos se almacenan en: {csv_filename}\")\n"
   ]
  },
  {
   "cell_type": "markdown",
   "id": "6b3ac21b-68e3-4c92-b21e-cd5f706ebab7",
   "metadata": {},
   "source": [
    "#### *<span style = \"color : #01A9DB\" >Para los videos segmentados correspondientes a la carpeta de \"Izquierda\"</span>*\n",
    "\n",
    "1. Directorio de videos:\n",
    "    * Se define el directorio que contiene los videos que se procesarán \n",
    "2. Lista para almacenar detecciones:\n",
    "    * Se creauna lista vacía para almacenar la información de las detecciones de todos los videos \n",
    "3. Bucle para procesar los videos:\n",
    "    * Se recorre cada archivo en el directorio especificado \n",
    "    * Si el archivo es un video (.mp4)\n",
    "    \n",
    "        #Se llama a la función process_video con la ruta del archivo y la lista de detecciones\n",
    "\n",
    "4. Almacenamiento de datos:\n",
    "    * Se crea un DataFrame de pandas con la información de todas las detecciones acumuladas \n",
    "    * Se guarda el DataFrame en un archivo .csv con el nombre de \"landmark_Izquierda.cvs\" en el mismo directorio que los videos \n",
    "\n",
    "5. Mensaje final:\n",
    "    * Se muestra un mensaje con la ruta del archivo CSV donde se han almacenado todas las detecciones y puntos de referenci relativos.\n",
    "    \n",
    "Resumen \n",
    "\n",
    "El código procesa todos los videos dentro del directorio especificado, detecta rostros en cada uno y guarda la información de las detecciones (coordenadas del cuadro delimitador y puntos clave) en un único archivo CSV\n",
    "\n",
    "Es importante mencionar que el código depende de la función process_video que se ha explicado en la celda anterior."
   ]
  },
  {
   "cell_type": "code",
   "execution_count": null,
   "id": "191eb554-4f28-4c06-a1b3-ee06dc3488f0",
   "metadata": {
    "tags": []
   },
   "outputs": [],
   "source": [
    "# Directorio que contiene los videos\n",
    "video_dir = \"Videos/Izquierda\"\n",
    "all_detections = []\n",
    "\n",
    "# Procesar cada video en el directorio y acumular los resultados\n",
    "for video_file in os.listdir(video_dir):\n",
    "    video_path = os.path.join(video_dir, video_file)\n",
    "    if os.path.isfile(video_path) and video_path.endswith('.mp4'):\n",
    "        process_video(video_path, all_detections)\n",
    "\n",
    "# Guardar todos los datos acumulados en un único archivo CSV\n",
    "csv_filename = os.path.join(video_dir, \"landmarks_Izquierda.csv\")\n",
    "df = pd.DataFrame(all_detections)\n",
    "\n",
    "# Agrega el nombre de la clase la cual se quiere agregar al archivo final de .csv\n",
    "class_name = \"Izquierda\"  \n",
    "df['class'] = class_name   \n",
    "\n",
    "df.to_csv(csv_filename, index=False)\n",
    "print(f\"Todas las detecciones y puntos de referencia relativos de todos los videos se almacenan en: {csv_filename}\")\n"
   ]
  },
  {
   "cell_type": "markdown",
   "id": "c567074c-421c-44f3-84c3-bb6e59b75013",
   "metadata": {},
   "source": [
    "#### *<span style = \"color : #01A9DB\" >Para los videos segmentados correspondientes a la carpeta de \"Palanca\"</span>*\n",
    "\n",
    "1. Directorio de videos:\n",
    "    * Se define el directorio que contiene los videos que se procesarán \n",
    "2. Lista para almacenar detecciones:\n",
    "    * Se creauna lista vacía para almacenar la información de las detecciones de todos los videos \n",
    "3. Bucle para procesar los videos:\n",
    "    * Se recorre cada archivo en el directorio especificado \n",
    "    * Si el archivo es un video (.mp4)\n",
    "    \n",
    "        #Se llama a la función process_video con la ruta del archivo y la lista de detecciones\n",
    "\n",
    "4. Almacenamiento de datos:\n",
    "    * Se crea un DataFrame de pandas con la información de todas las detecciones acumuladas \n",
    "    * Se guarda el DataFrame en un archivo .csv con el nombre de \"landmark_Palanca.cvs\" en el mismo directorio que los videos \n",
    "\n",
    "5. Mensaje final:\n",
    "    * Se muestra un mensaje con la ruta del archivo CSV donde se han almacenado todas las detecciones y puntos de referenci relativos.\n",
    "    \n",
    "Resumen \n",
    "\n",
    "El código procesa todos los videos dentro del directorio especificado, detecta rostros en cada uno y guarda la información de las detecciones (coordenadas del cuadro delimitador y puntos clave) en un único archivo CSV\n",
    "\n",
    "Es importante mencionar que el código depende de la función process_video que se ha explicado en la celda anterior."
   ]
  },
  {
   "cell_type": "code",
   "execution_count": null,
   "id": "c7f687f6-0b1d-4481-9ba4-c3ec332c781a",
   "metadata": {
    "tags": []
   },
   "outputs": [],
   "source": [
    "# Directorio que contiene los videos\n",
    "video_dir = \"Videos/Palanca\"\n",
    "all_detections = []\n",
    "\n",
    "# Procesar cada video en el directorio y acumular los resultados\n",
    "for video_file in os.listdir(video_dir):\n",
    "    video_path = os.path.join(video_dir, video_file)\n",
    "    if os.path.isfile(video_path) and video_path.endswith('.mp4'):\n",
    "        process_video(video_path, all_detections)\n",
    "\n",
    "# Guardar todos los datos acumulados en un único archivo CSV\n",
    "csv_filename = os.path.join(video_dir, \"landmarks_Palanca.csv\")\n",
    "df = pd.DataFrame(all_detections)\n",
    "\n",
    "# Agrega el nombre de la clase la cual se quiere agregar al archivo final de .csv\n",
    "class_name = \"Palanca\"  \n",
    "df['class'] = class_name   \n",
    "\n",
    "df.to_csv(csv_filename, index=False)\n",
    "print(f\"Todas las detecciones y puntos de referencia relativos de todos los videos se almacenan en: {csv_filename}\")\n"
   ]
  },
  {
   "cell_type": "markdown",
   "id": "e15d4635-3a27-4701-ba18-645a29cac8ea",
   "metadata": {},
   "source": [
    "#### *<span style = \"color : #01A9DB\" >Para los videos segmentados correspondientes a la carpeta de \"Retrovisor\"</span>*\n",
    "\n",
    "1. Directorio de videos:\n",
    "    * Se define el directorio que contiene los videos que se procesarán \n",
    "2. Lista para almacenar detecciones:\n",
    "    * Se creauna lista vacía para almacenar la información de las detecciones de todos los videos \n",
    "3. Bucle para procesar los videos:\n",
    "    * Se recorre cada archivo en el directorio especificado \n",
    "    * Si el archivo es un video (.mp4)\n",
    "    \n",
    "        #Se llama a la función process_video con la ruta del archivo y la lista de detecciones\n",
    "\n",
    "4. Almacenamiento de datos:\n",
    "    * Se crea un DataFrame de pandas con la información de todas las detecciones acumuladas \n",
    "    * Se guarda el DataFrame en un archivo .csv con el nombre de \"landmark_Retrovisor.cvs\" en el mismo directorio que los videos \n",
    "\n",
    "5. Mensaje final:\n",
    "    * Se muestra un mensaje con la ruta del archivo CSV donde se han almacenado todas las detecciones y puntos de referenci relativos.\n",
    "    \n",
    "Resumen \n",
    "\n",
    "El código procesa todos los videos dentro del directorio especificado, detecta rostros en cada uno y guarda la información de las detecciones (coordenadas del cuadro delimitador y puntos clave) en un único archivo CSV\n",
    "\n",
    "Es importante mencionar que el código depende de la función process_video que se ha explicado en la celda anterior."
   ]
  },
  {
   "cell_type": "code",
   "execution_count": null,
   "id": "ad63103a-86d7-48a0-952c-f723b75d5c1b",
   "metadata": {
    "tags": []
   },
   "outputs": [],
   "source": [
    "# Directorio que contiene los videos\n",
    "video_dir = \"Videos/Retrovisor\"\n",
    "all_detections = []\n",
    "\n",
    "# Procesar cada video en el directorio y acumular los resultados\n",
    "for video_file in os.listdir(video_dir):\n",
    "    video_path = os.path.join(video_dir, video_file)\n",
    "    if os.path.isfile(video_path) and video_path.endswith('.mp4'):\n",
    "        process_video(video_path, all_detections)\n",
    "\n",
    "# Guardar todos los datos acumulados en un único archivo CSV\n",
    "csv_filename = os.path.join(video_dir, \"landmarks_Retrovisor.csv\")\n",
    "df = pd.DataFrame(all_detections)\n",
    "\n",
    "# Agrega el nombre de la clase la cual se quiere agregar al archivo final de .csv\n",
    "class_name = \"Retrovisor\"  \n",
    "df['class'] = class_name   \n",
    "\n",
    "df.to_csv(csv_filename, index=False)\n",
    "print(f\"Todas las detecciones y puntos de referencia relativos de todos los videos se almacenan en: {csv_filename}\")\n"
   ]
  },
  {
   "cell_type": "markdown",
   "id": "c197b5cf-53d4-4925-b4c6-6e1c0bf8295c",
   "metadata": {},
   "source": [
    "# **<span style=\"color:#0000FF\">4. Construcción y Evaluación de modelos</span>**\n",
    "\n",
    "En esta sección vamos a trabajar la parte de la construcción de los modelos, para esto una vez que los archivos .csv ya se generaron de manera automática correspondiente a los \"landmarks\" de cada PAV los vamos a cargar y trabajar con ellos. \n",
    "\n",
    "Cabe mencionar que estos archivos .csv tienes las carcaterísticas que vamos a usar para hacer el entrenamiento de los modelos, los archivos .csv que se generaron durante la extracción de las características fueron los siguientes:\n",
    "* landmarks_Derecha.csv\n",
    "* landmarks_Frente.csv\n",
    "* landmarks_Izquierda.csv\n",
    "* landmarks_Palanca.csv\n",
    "* landmarks_Retrovisor.csv\n",
    "\n",
    "Cada uno de archivos .cvs tiene todos los landmark's extraidos de los videos segmentados, donde la clase de cada archivo .csv es el PAV del cual se le extrajeron las características."
   ]
  },
  {
   "cell_type": "code",
   "execution_count": null,
   "id": "2604ab21-c981-4795-9155-7b8f3eb4530b",
   "metadata": {
    "tags": []
   },
   "outputs": [],
   "source": [
    "import pandas as pd \n"
   ]
  },
  {
   "cell_type": "code",
   "execution_count": null,
   "id": "d6116855-7962-491d-a819-20772f20487b",
   "metadata": {
    "tags": []
   },
   "outputs": [],
   "source": [
    "#Vamos a proceder a cargar el archivo .csv correspondiente a landmarks_Derecha.csv\n",
    "df_derecha = pd.read_csv('Videos/Derecha/landmarks_Derecha.csv')\n",
    "df_derecha.head()"
   ]
  },
  {
   "cell_type": "code",
   "execution_count": null,
   "id": "4a476a75-c921-4fd6-b64d-25135bad6de8",
   "metadata": {
    "tags": []
   },
   "outputs": [],
   "source": [
    "#Vamos a proceder a cargar el archivo .csv correspondiente a landmarks_Frente.csv\n",
    "df_frente = pd.read_csv('Videos/Frente/landmarks_Frente.csv')\n",
    "df_frente.head()"
   ]
  },
  {
   "cell_type": "code",
   "execution_count": null,
   "id": "6ad0ee6e-3f63-4664-9ca1-fe5fe3e37db9",
   "metadata": {
    "tags": []
   },
   "outputs": [],
   "source": [
    "#Vamos a proceder a cargar el archivo .csv correspondiente a landmarks_Izquierda.csv\n",
    "df_izquierda = pd.read_csv('Videos/Izquierda/landmarks_Izquierda.csv')\n",
    "df_izquierda.head()"
   ]
  },
  {
   "cell_type": "code",
   "execution_count": null,
   "id": "88e3e548-5ec5-4123-a15f-c27cebccfc24",
   "metadata": {
    "tags": []
   },
   "outputs": [],
   "source": [
    "#Vamos a proceder a cargar el archivo .csv correspondiente a landmarks_Palanca.csv\n",
    "df_palanca = pd.read_csv('Videos/Palanca/landmarks_Palanca.csv')\n",
    "df_palanca.head()"
   ]
  },
  {
   "cell_type": "code",
   "execution_count": null,
   "id": "02a90d7d-828a-4be8-875c-85555a43f3d8",
   "metadata": {
    "tags": []
   },
   "outputs": [],
   "source": [
    "#Vamos a proceder a cargar el archivo .csv correspondiente a landmarks_Retrovisor.csv\n",
    "df_retrovisor = pd.read_csv('Videos/Retrovisor/landmarks_Retrovisor.csv')\n",
    "df_retrovisor.head()"
   ]
  },
  {
   "cell_type": "markdown",
   "id": "78840be5-b2a0-4fbc-8b69-b0ea571efef8",
   "metadata": {},
   "source": [
    "#### <span style=\"color:red\">Observación</span> \n",
    "\n",
    "Prestando atención a los DataFrames extraidos de los archivos .csv que se obtuvieron de todos los landmark's son DataFrame's independientes por lo que vamos a proceder a concatenar todos los landmark's para hacer uno total y de ahí comenzar con el análisis exploratorio."
   ]
  },
  {
   "cell_type": "code",
   "execution_count": null,
   "id": "7e6f2461-7daf-48d2-8190-b67ba2727e46",
   "metadata": {
    "tags": []
   },
   "outputs": [],
   "source": [
    "# Concatenar los DataFrames\n",
    "df = pd.concat([df_retrovisor, df_palanca, df_izquierda, df_frente, df_derecha], ignore_index=True)\n",
    "# Vamos a proceder a guardar el archivo en un .csv total para poder trabajar con esas características y entrenar los modelos\n",
    "df.to_csv('FULL.csv')"
   ]
  },
  {
   "cell_type": "markdown",
   "id": "4936edf4-6d9c-430b-8d0b-5bed9bd93c64",
   "metadata": {
    "tags": []
   },
   "source": [
    "#### <span style=\"color:red\">Observación 1</span>\n",
    "\n",
    "Una vez que ya tenemos el archivo .csv completo con todas las clases o PAV indicados, vamos a proceder a leer este archivo con la libreria de pandas para comenzar con nuestro análisis exploratorio, para comenzar con el entrenamiento de los modelos.\n",
    "\n",
    "Cargamos el archivo .csv con todas la clases "
   ]
  },
  {
   "cell_type": "markdown",
   "id": "ebb457d6-089a-4077-bd0a-6896e6909027",
   "metadata": {},
   "source": [
    "# **<span style=\"color:red\">Correr el scrip a partir de este momento</span>**"
   ]
  },
  {
   "cell_type": "code",
   "execution_count": 1,
   "id": "73e97713-0c73-4b68-b478-14aa76121d04",
   "metadata": {
    "tags": []
   },
   "outputs": [],
   "source": [
    "import pandas as pd \n",
    "import matplotlib.pyplot as plt\n",
    "import seaborn as sns\n",
    "import numpy as np\n",
    "from sklearn.feature_selection import mutual_info_classif\n",
    "\n",
    "from sklearn.decomposition import PCA\n",
    "from sklearn.manifold import TSNE\n",
    "from sklearn.preprocessing import StandardScaler\n",
    "\n",
    "from sklearn.preprocessing import LabelEncoder"
   ]
  },
  {
   "cell_type": "code",
   "execution_count": 2,
   "id": "978dd4a3-e3b8-4d76-ac6c-dce13c09f518",
   "metadata": {
    "tags": []
   },
   "outputs": [
    {
     "data": {
      "text/html": [
       "<div>\n",
       "<style scoped>\n",
       "    .dataframe tbody tr th:only-of-type {\n",
       "        vertical-align: middle;\n",
       "    }\n",
       "\n",
       "    .dataframe tbody tr th {\n",
       "        vertical-align: top;\n",
       "    }\n",
       "\n",
       "    .dataframe thead th {\n",
       "        text-align: right;\n",
       "    }\n",
       "</style>\n",
       "<table border=\"1\" class=\"dataframe\">\n",
       "  <thead>\n",
       "    <tr style=\"text-align: right;\">\n",
       "      <th></th>\n",
       "      <th>Unnamed: 0</th>\n",
       "      <th>video_name</th>\n",
       "      <th>xmin</th>\n",
       "      <th>ymin</th>\n",
       "      <th>width</th>\n",
       "      <th>height</th>\n",
       "      <th>landmark_0_x</th>\n",
       "      <th>landmark_0_y</th>\n",
       "      <th>landmark_1_x</th>\n",
       "      <th>landmark_1_y</th>\n",
       "      <th>landmark_2_x</th>\n",
       "      <th>landmark_2_y</th>\n",
       "      <th>landmark_3_x</th>\n",
       "      <th>landmark_3_y</th>\n",
       "      <th>landmark_4_x</th>\n",
       "      <th>landmark_4_y</th>\n",
       "      <th>landmark_5_x</th>\n",
       "      <th>landmark_5_y</th>\n",
       "      <th>class</th>\n",
       "    </tr>\n",
       "  </thead>\n",
       "  <tbody>\n",
       "    <tr>\n",
       "      <th>0</th>\n",
       "      <td>0</td>\n",
       "      <td>ANDRESRETROVISOR_segment1.mp4</td>\n",
       "      <td>0.263215</td>\n",
       "      <td>0.362846</td>\n",
       "      <td>0.349267</td>\n",
       "      <td>0.197650</td>\n",
       "      <td>0.366920</td>\n",
       "      <td>0.425277</td>\n",
       "      <td>0.511518</td>\n",
       "      <td>0.423857</td>\n",
       "      <td>0.428224</td>\n",
       "      <td>0.465318</td>\n",
       "      <td>0.432839</td>\n",
       "      <td>0.503788</td>\n",
       "      <td>0.309365</td>\n",
       "      <td>0.448271</td>\n",
       "      <td>0.613918</td>\n",
       "      <td>0.446762</td>\n",
       "      <td>Retrovisor</td>\n",
       "    </tr>\n",
       "    <tr>\n",
       "      <th>1</th>\n",
       "      <td>1</td>\n",
       "      <td>ANDRESRETROVISOR_segment1.mp4</td>\n",
       "      <td>0.262060</td>\n",
       "      <td>0.364248</td>\n",
       "      <td>0.340342</td>\n",
       "      <td>0.192572</td>\n",
       "      <td>0.361236</td>\n",
       "      <td>0.423529</td>\n",
       "      <td>0.505577</td>\n",
       "      <td>0.422115</td>\n",
       "      <td>0.416569</td>\n",
       "      <td>0.458088</td>\n",
       "      <td>0.421138</td>\n",
       "      <td>0.498809</td>\n",
       "      <td>0.306025</td>\n",
       "      <td>0.448922</td>\n",
       "      <td>0.614924</td>\n",
       "      <td>0.448435</td>\n",
       "      <td>Retrovisor</td>\n",
       "    </tr>\n",
       "    <tr>\n",
       "      <th>2</th>\n",
       "      <td>2</td>\n",
       "      <td>ANDRESRETROVISOR_segment1.mp4</td>\n",
       "      <td>0.250039</td>\n",
       "      <td>0.354061</td>\n",
       "      <td>0.350128</td>\n",
       "      <td>0.198172</td>\n",
       "      <td>0.354193</td>\n",
       "      <td>0.418969</td>\n",
       "      <td>0.496626</td>\n",
       "      <td>0.416840</td>\n",
       "      <td>0.410802</td>\n",
       "      <td>0.458204</td>\n",
       "      <td>0.414705</td>\n",
       "      <td>0.496870</td>\n",
       "      <td>0.300112</td>\n",
       "      <td>0.441435</td>\n",
       "      <td>0.600933</td>\n",
       "      <td>0.438784</td>\n",
       "      <td>Retrovisor</td>\n",
       "    </tr>\n",
       "    <tr>\n",
       "      <th>3</th>\n",
       "      <td>3</td>\n",
       "      <td>ANDRESRETROVISOR_segment1.mp4</td>\n",
       "      <td>0.243997</td>\n",
       "      <td>0.354059</td>\n",
       "      <td>0.352781</td>\n",
       "      <td>0.199663</td>\n",
       "      <td>0.351108</td>\n",
       "      <td>0.418853</td>\n",
       "      <td>0.491792</td>\n",
       "      <td>0.417864</td>\n",
       "      <td>0.403855</td>\n",
       "      <td>0.459850</td>\n",
       "      <td>0.407766</td>\n",
       "      <td>0.498198</td>\n",
       "      <td>0.298379</td>\n",
       "      <td>0.442049</td>\n",
       "      <td>0.598347</td>\n",
       "      <td>0.442876</td>\n",
       "      <td>Retrovisor</td>\n",
       "    </tr>\n",
       "    <tr>\n",
       "      <th>4</th>\n",
       "      <td>4</td>\n",
       "      <td>ANDRESRETROVISOR_segment1.mp4</td>\n",
       "      <td>0.241638</td>\n",
       "      <td>0.354374</td>\n",
       "      <td>0.348102</td>\n",
       "      <td>0.196986</td>\n",
       "      <td>0.345526</td>\n",
       "      <td>0.417454</td>\n",
       "      <td>0.483071</td>\n",
       "      <td>0.415736</td>\n",
       "      <td>0.392883</td>\n",
       "      <td>0.459438</td>\n",
       "      <td>0.402375</td>\n",
       "      <td>0.496799</td>\n",
       "      <td>0.309093</td>\n",
       "      <td>0.438114</td>\n",
       "      <td>0.600009</td>\n",
       "      <td>0.438568</td>\n",
       "      <td>Retrovisor</td>\n",
       "    </tr>\n",
       "  </tbody>\n",
       "</table>\n",
       "</div>"
      ],
      "text/plain": [
       "   Unnamed: 0                     video_name      xmin      ymin     width  \\\n",
       "0           0  ANDRESRETROVISOR_segment1.mp4  0.263215  0.362846  0.349267   \n",
       "1           1  ANDRESRETROVISOR_segment1.mp4  0.262060  0.364248  0.340342   \n",
       "2           2  ANDRESRETROVISOR_segment1.mp4  0.250039  0.354061  0.350128   \n",
       "3           3  ANDRESRETROVISOR_segment1.mp4  0.243997  0.354059  0.352781   \n",
       "4           4  ANDRESRETROVISOR_segment1.mp4  0.241638  0.354374  0.348102   \n",
       "\n",
       "     height  landmark_0_x  landmark_0_y  landmark_1_x  landmark_1_y  \\\n",
       "0  0.197650      0.366920      0.425277      0.511518      0.423857   \n",
       "1  0.192572      0.361236      0.423529      0.505577      0.422115   \n",
       "2  0.198172      0.354193      0.418969      0.496626      0.416840   \n",
       "3  0.199663      0.351108      0.418853      0.491792      0.417864   \n",
       "4  0.196986      0.345526      0.417454      0.483071      0.415736   \n",
       "\n",
       "   landmark_2_x  landmark_2_y  landmark_3_x  landmark_3_y  landmark_4_x  \\\n",
       "0      0.428224      0.465318      0.432839      0.503788      0.309365   \n",
       "1      0.416569      0.458088      0.421138      0.498809      0.306025   \n",
       "2      0.410802      0.458204      0.414705      0.496870      0.300112   \n",
       "3      0.403855      0.459850      0.407766      0.498198      0.298379   \n",
       "4      0.392883      0.459438      0.402375      0.496799      0.309093   \n",
       "\n",
       "   landmark_4_y  landmark_5_x  landmark_5_y       class  \n",
       "0      0.448271      0.613918      0.446762  Retrovisor  \n",
       "1      0.448922      0.614924      0.448435  Retrovisor  \n",
       "2      0.441435      0.600933      0.438784  Retrovisor  \n",
       "3      0.442049      0.598347      0.442876  Retrovisor  \n",
       "4      0.438114      0.600009      0.438568  Retrovisor  "
      ]
     },
     "execution_count": 2,
     "metadata": {},
     "output_type": "execute_result"
    }
   ],
   "source": [
    "#Comenzamos leyendo nuestro archivo .csv donde tenemos todas nuestras features y clases juntas \n",
    "df = pd.read_csv('FULL.csv')\n",
    "df.head()"
   ]
  },
  {
   "cell_type": "code",
   "execution_count": 3,
   "id": "ccbbb53f-91a7-4110-aacc-3476375e3249",
   "metadata": {
    "tags": []
   },
   "outputs": [],
   "source": [
    "# Eliminamos las columnas que no son necesarias para el entrenamiento, en este la caso los features que no nos proporcionan información relevante son\n",
    "# Unnamed:0 la cual es una columna creada para solamente enumerar los datos\n",
    "# video_name el cual solamente nos indica el nombre de los videos a los cuales corresponde \n",
    "df = df.drop(['Unnamed: 0', 'video_name'], axis=1)"
   ]
  },
  {
   "cell_type": "code",
   "execution_count": 4,
   "id": "1f96adbd-f824-4544-a5da-10b604a078bb",
   "metadata": {
    "tags": []
   },
   "outputs": [
    {
     "name": "stdout",
     "output_type": "stream",
     "text": [
      "<class 'pandas.core.frame.DataFrame'>\n",
      "RangeIndex: 10189 entries, 0 to 10188\n",
      "Data columns (total 17 columns):\n",
      " #   Column        Non-Null Count  Dtype  \n",
      "---  ------        --------------  -----  \n",
      " 0   xmin          10189 non-null  float64\n",
      " 1   ymin          10189 non-null  float64\n",
      " 2   width         10189 non-null  float64\n",
      " 3   height        10189 non-null  float64\n",
      " 4   landmark_0_x  10189 non-null  float64\n",
      " 5   landmark_0_y  10189 non-null  float64\n",
      " 6   landmark_1_x  10189 non-null  float64\n",
      " 7   landmark_1_y  10189 non-null  float64\n",
      " 8   landmark_2_x  10189 non-null  float64\n",
      " 9   landmark_2_y  10189 non-null  float64\n",
      " 10  landmark_3_x  10189 non-null  float64\n",
      " 11  landmark_3_y  10189 non-null  float64\n",
      " 12  landmark_4_x  10189 non-null  float64\n",
      " 13  landmark_4_y  10189 non-null  float64\n",
      " 14  landmark_5_x  10189 non-null  float64\n",
      " 15  landmark_5_y  10189 non-null  float64\n",
      " 16  class         10189 non-null  object \n",
      "dtypes: float64(16), object(1)\n",
      "memory usage: 1.3+ MB\n"
     ]
    }
   ],
   "source": [
    "#Imprimimos la información del DataFrame\n",
    "df.info()"
   ]
  },
  {
   "cell_type": "code",
   "execution_count": 5,
   "id": "28d42ef5-1e2c-4000-a912-7fa3ac256462",
   "metadata": {
    "tags": []
   },
   "outputs": [
    {
     "data": {
      "image/png": "[encoded data removed]",
      "text/plain": [
       "<Figure size 1000x500 with 1 Axes>"
      ]
     },
     "metadata": {},
     "output_type": "display_data"
    }
   ],
   "source": [
    "#Observamos la ganancia de información de cada atributo con respecto a la clase\n",
    "x_nueva = mutual_info_classif(df.iloc[:,0:-1], df.iloc[:,-1])\n",
    "feat_imp = pd.Series(x_nueva, df.columns[0:len(df.columns)-1])\n",
    "fig, ax = plt.subplots(figsize=(10, 5))\n",
    "# Crea el gráfico de barras horizontales\n",
    "feat_imp.plot(ax=ax, title=\"Características con mayor importancia\", kind='barh', color = 'skyblue')\n",
    "plt.show()"
   ]
  },
  {
   "cell_type": "markdown",
   "id": "4686d483-9dcc-4fa4-b79f-39636fe7264d",
   "metadata": {
    "tags": []
   },
   "source": [
    "El siguiente paso que vamos a realizar, sera cambiar nuestro tipo de clases, ya que en este caso las clases en nuestro DataFrame son: \n",
    "* Retrovisor\n",
    "* Palanca\n",
    "* Izquierda\n",
    "* Frente\n",
    "* Derecha\n",
    "\n",
    "Las cuales al aplicar LabelEncoder quedaran de la siguiente manera:\n",
    "* Retrovisor --> 4 \n",
    "* Palanca --> 3\n",
    "* Izquierda --> 2\n",
    "* Frente --> 1\n",
    "* Derecha --> 0"
   ]
  },
  {
   "cell_type": "code",
   "execution_count": 6,
   "id": "46c01e79-5652-4b7f-8382-8ec7f2959b31",
   "metadata": {
    "tags": []
   },
   "outputs": [],
   "source": [
    "#Creamos una instancia de LabelEncoder\n",
    "label_encoder = LabelEncoder()\n",
    "#Ajustamos el LabelEncoder a las etoquetas únicas de la columna \"class\"\n",
    "label_encoder.fit(df['class'])\n",
    "#Tranformamos las etiquetas de clase en número y crea una nueva columna 'clase' en el DataFrame\n",
    "df['clase'] = label_encoder.transform(df['class'])"
   ]
  },
  {
   "cell_type": "code",
   "execution_count": 7,
   "id": "3be3d53e-c028-4466-a8fd-43940184d0b5",
   "metadata": {
    "tags": []
   },
   "outputs": [
    {
     "data": {
      "text/plain": [
       "<bound method DataFrame.info of            xmin      ymin     width    height  landmark_0_x  landmark_0_y  \\\n",
       "0      0.263215  0.362846  0.349267  0.197650      0.366920      0.425277   \n",
       "1      0.262060  0.364248  0.340342  0.192572      0.361236      0.423529   \n",
       "2      0.250039  0.354061  0.350128  0.198172      0.354193      0.418969   \n",
       "3      0.243997  0.354059  0.352781  0.199663      0.351108      0.418853   \n",
       "4      0.241638  0.354374  0.348102  0.196986      0.345526      0.417454   \n",
       "...         ...       ...       ...       ...           ...           ...   \n",
       "10184 -0.023204  0.382439  0.540473  0.303944      0.174090      0.479785   \n",
       "10185 -0.022476  0.382838  0.539069  0.303157      0.174614      0.480405   \n",
       "10186 -0.013772  0.384852  0.535694  0.301241      0.179742      0.480320   \n",
       "10187 -0.013590  0.384802  0.535830  0.301318      0.179651      0.480127   \n",
       "10188 -0.014092  0.384201  0.536286  0.301576      0.178556      0.479066   \n",
       "\n",
       "       landmark_1_x  landmark_1_y  landmark_2_x  landmark_2_y  landmark_3_x  \\\n",
       "0          0.511518      0.423857      0.428224      0.465318      0.432839   \n",
       "1          0.505577      0.422115      0.416569      0.458088      0.421138   \n",
       "2          0.496626      0.416840      0.410802      0.458204      0.414705   \n",
       "3          0.491792      0.417864      0.403855      0.459850      0.407766   \n",
       "4          0.483071      0.415736      0.392883      0.459438      0.402375   \n",
       "...             ...           ...           ...           ...           ...   \n",
       "10184      0.310609      0.475828      0.144497      0.544869      0.200895   \n",
       "10185      0.310653      0.475717      0.145264      0.544689      0.202234   \n",
       "10186      0.311818      0.476214      0.143764      0.544964      0.201061   \n",
       "10187      0.312646      0.476156      0.144568      0.544549      0.201541   \n",
       "10188      0.311699      0.476204      0.141231      0.544290      0.197655   \n",
       "\n",
       "       landmark_3_y  landmark_4_x  landmark_4_y  landmark_5_x  landmark_5_y  \\\n",
       "0          0.503788      0.309365      0.448271      0.613918      0.446762   \n",
       "1          0.498809      0.306025      0.448922      0.614924      0.448435   \n",
       "2          0.496870      0.300112      0.441435      0.600933      0.438784   \n",
       "3          0.498198      0.298379      0.442049      0.598347      0.442876   \n",
       "4          0.496799      0.309093      0.438114      0.600009      0.438568   \n",
       "...             ...           ...           ...           ...           ...   \n",
       "10184      0.604638      0.262043      0.511272      0.603859      0.498704   \n",
       "10185      0.604578      0.263435      0.511786      0.604104      0.498260   \n",
       "10186      0.605603      0.272538      0.510137      0.610512      0.497765   \n",
       "10187      0.605309      0.271493      0.510339      0.610632      0.498128   \n",
       "10188      0.605039      0.271813      0.508901      0.612013      0.498867   \n",
       "\n",
       "            class  clase  \n",
       "0      Retrovisor      4  \n",
       "1      Retrovisor      4  \n",
       "2      Retrovisor      4  \n",
       "3      Retrovisor      4  \n",
       "4      Retrovisor      4  \n",
       "...           ...    ...  \n",
       "10184     Derecha      0  \n",
       "10185     Derecha      0  \n",
       "10186     Derecha      0  \n",
       "10187     Derecha      0  \n",
       "10188     Derecha      0  \n",
       "\n",
       "[10189 rows x 18 columns]>"
      ]
     },
     "execution_count": 7,
     "metadata": {},
     "output_type": "execute_result"
    }
   ],
   "source": [
    "df.info"
   ]
  },
  {
   "cell_type": "code",
   "execution_count": 8,
   "id": "a7b5d361-1f4c-4517-9090-bd1646620c3b",
   "metadata": {
    "tags": []
   },
   "outputs": [
    {
     "data": {
      "text/plain": [
       "<bound method DataFrame.info of            xmin      ymin     width    height  landmark_0_x  landmark_0_y  \\\n",
       "0      0.263215  0.362846  0.349267  0.197650      0.366920      0.425277   \n",
       "1      0.262060  0.364248  0.340342  0.192572      0.361236      0.423529   \n",
       "2      0.250039  0.354061  0.350128  0.198172      0.354193      0.418969   \n",
       "3      0.243997  0.354059  0.352781  0.199663      0.351108      0.418853   \n",
       "4      0.241638  0.354374  0.348102  0.196986      0.345526      0.417454   \n",
       "...         ...       ...       ...       ...           ...           ...   \n",
       "10184 -0.023204  0.382439  0.540473  0.303944      0.174090      0.479785   \n",
       "10185 -0.022476  0.382838  0.539069  0.303157      0.174614      0.480405   \n",
       "10186 -0.013772  0.384852  0.535694  0.301241      0.179742      0.480320   \n",
       "10187 -0.013590  0.384802  0.535830  0.301318      0.179651      0.480127   \n",
       "10188 -0.014092  0.384201  0.536286  0.301576      0.178556      0.479066   \n",
       "\n",
       "       landmark_1_x  landmark_1_y  landmark_2_x  landmark_2_y  landmark_3_x  \\\n",
       "0          0.511518      0.423857      0.428224      0.465318      0.432839   \n",
       "1          0.505577      0.422115      0.416569      0.458088      0.421138   \n",
       "2          0.496626      0.416840      0.410802      0.458204      0.414705   \n",
       "3          0.491792      0.417864      0.403855      0.459850      0.407766   \n",
       "4          0.483071      0.415736      0.392883      0.459438      0.402375   \n",
       "...             ...           ...           ...           ...           ...   \n",
       "10184      0.310609      0.475828      0.144497      0.544869      0.200895   \n",
       "10185      0.310653      0.475717      0.145264      0.544689      0.202234   \n",
       "10186      0.311818      0.476214      0.143764      0.544964      0.201061   \n",
       "10187      0.312646      0.476156      0.144568      0.544549      0.201541   \n",
       "10188      0.311699      0.476204      0.141231      0.544290      0.197655   \n",
       "\n",
       "       landmark_3_y  landmark_4_x  landmark_4_y  landmark_5_x  landmark_5_y  \n",
       "0          0.503788      0.309365      0.448271      0.613918      0.446762  \n",
       "1          0.498809      0.306025      0.448922      0.614924      0.448435  \n",
       "2          0.496870      0.300112      0.441435      0.600933      0.438784  \n",
       "3          0.498198      0.298379      0.442049      0.598347      0.442876  \n",
       "4          0.496799      0.309093      0.438114      0.600009      0.438568  \n",
       "...             ...           ...           ...           ...           ...  \n",
       "10184      0.604638      0.262043      0.511272      0.603859      0.498704  \n",
       "10185      0.604578      0.263435      0.511786      0.604104      0.498260  \n",
       "10186      0.605603      0.272538      0.510137      0.610512      0.497765  \n",
       "10187      0.605309      0.271493      0.510339      0.610632      0.498128  \n",
       "10188      0.605039      0.271813      0.508901      0.612013      0.498867  \n",
       "\n",
       "[10189 rows x 16 columns]>"
      ]
     },
     "execution_count": 8,
     "metadata": {},
     "output_type": "execute_result"
    }
   ],
   "source": [
    "# Dividimos nuestros datos en features \n",
    "X = df.iloc[:,0:-2]\n",
    "X.info"
   ]
  },
  {
   "cell_type": "code",
   "execution_count": 9,
   "id": "4188f89a-21bb-4b7f-ba61-6cf9ac335f44",
   "metadata": {
    "tags": []
   },
   "outputs": [
    {
     "data": {
      "image/png": "[encoded data removed]",
      "text/plain": [
       "<Figure size 640x480 with 1 Axes>"
      ]
     },
     "metadata": {},
     "output_type": "display_data"
    }
   ],
   "source": [
    "#Como podemos observra el comportamiento de los datos nos indica que no estan muy dispersos cada uno\n",
    "#Esto quiere decir que el modelo puede aprender con mayor precisión\n",
    "# Crear la gráfica de caja\n",
    "plt.boxplot(X,notch=True, patch_artist=True,\n",
    "            whiskerprops={'color':'green', 'linestyle':'--'},\n",
    "            boxprops={'color':'blue', 'facecolor':'lightblue'},\n",
    "            capprops={'color':'red'},\n",
    "            medianprops={'color':'yellow'},\n",
    "            flierprops={'marker':'o', 'markerfacecolor':'red', 'markersize':8},\n",
    "            showmeans=True, meanline=True,\n",
    "            meanprops={'color':'purple', 'linestyle':'-.'} )\n",
    "\n",
    "# Añadir títulos y etiquetas (opcional)\n",
    "plt.title('Comportamiento de los datos ')\n",
    "plt.ylabel('$Valores$')\n",
    "plt.xlabel('$Features$')\n",
    "\n",
    "# Mostrar la gráfica\n",
    "plt.show()"
   ]
  },
  {
   "cell_type": "code",
   "execution_count": 10,
   "id": "0f98c311-6a74-46c4-b608-4afffa8fd0b2",
   "metadata": {
    "tags": []
   },
   "outputs": [
    {
     "data": {
      "text/plain": [
       "<bound method Series.info of 0        4\n",
       "1        4\n",
       "2        4\n",
       "3        4\n",
       "4        4\n",
       "        ..\n",
       "10184    0\n",
       "10185    0\n",
       "10186    0\n",
       "10187    0\n",
       "10188    0\n",
       "Name: clase, Length: 10189, dtype: int32>"
      ]
     },
     "execution_count": 10,
     "metadata": {},
     "output_type": "execute_result"
    }
   ],
   "source": [
    "#Dividimos nuestros datos en la clase\n",
    "Y = df.iloc[:,-1]\n",
    "Y.info"
   ]
  },
  {
   "cell_type": "markdown",
   "id": "8178ff4c-14fb-44c9-bded-387bada7ccda",
   "metadata": {},
   "source": [
    "#### **Aplicamos reducción de dimensionalidad**\n",
    "\n",
    "Aplicamos reducción de dimensionalidad para observar como se comportan los datos y tener idea de que tipo de modelo podemos ocupar "
   ]
  },
  {
   "cell_type": "code",
   "execution_count": 11,
   "id": "ebd19f8e-1f8b-44e4-9dea-526d5ddb2494",
   "metadata": {
    "tags": []
   },
   "outputs": [
    {
     "data": {
      "image/png": "[encoded data removed]",
      "text/plain": [
       "<Figure size 640x480 with 1 Axes>"
      ]
     },
     "metadata": {},
     "output_type": "display_data"
    }
   ],
   "source": [
    "# Es una buena práctica estandarizar las características antes de aplicar PCA\n",
    "scaler = StandardScaler()\n",
    "X_scaled = scaler.fit_transform(X)\n",
    "# Aplicar PCA para reducir a 2 componentes\n",
    "pca = PCA(n_components=2)\n",
    "X_PCA = pca.fit_transform(X_scaled)\n",
    "\n",
    "# Visualizar los resultados\n",
    "scatter = plt.scatter(X_PCA[:, 0], X_PCA[:, 1], c=Y.values.ravel())\n",
    "plt.title('PCA plot in 2D')\n",
    "plt.xlabel('Component 1')\n",
    "plt.ylabel('Component 2')\n",
    "plt.legend(*scatter.legend_elements(), title=\"Classes\")\n",
    "plt.show()"
   ]
  },
  {
   "cell_type": "code",
   "execution_count": 12,
   "id": "62fadfa8-5e9b-42c2-b884-c47a4fa7598e",
   "metadata": {
    "tags": []
   },
   "outputs": [
    {
     "data": {
      "image/png": "[encoded data removed]",
      "text/plain": [
       "<Figure size 640x480 with 1 Axes>"
      ]
     },
     "metadata": {},
     "output_type": "display_data"
    }
   ],
   "source": [
    "# Estandarizar las características\n",
    "scaler = StandardScaler()\n",
    "X_scaled = scaler.fit_transform(X)\n",
    "\n",
    "# Aplicar t-SNE para reducir a 2 componentes\n",
    "tsne = TSNE(n_components=2, random_state=42)\n",
    "X_TSNE = tsne.fit_transform(X_scaled)\n",
    "\n",
    "# Visualizar los resultados\n",
    "scatter = plt.scatter(X_TSNE[:, 0], X_TSNE[:, 1], c=Y.values.ravel())\n",
    "plt.title('t-SNE plot in 2D')\n",
    "plt.xlabel('t-SNE Component 1')\n",
    "plt.ylabel('t-SNE Component 2')\n",
    "plt.legend(*scatter.legend_elements(), title=\"Classes\")\n",
    "plt.show()"
   ]
  },
  {
   "cell_type": "markdown",
   "id": "60915428-398b-48d6-9795-5928212a7c61",
   "metadata": {},
   "source": [
    "#### **<span style=\"color:purple\">Aquí es donde me empiezo a preocupar</span>**\n",
    "\n",
    "Debido a que al realizar reducción de dimensionalidad se observa que mis clases siguen estando juntas.\n",
    "\n",
    "<img src=\"https://www.petlife.mx/u/fotografias/m/2023/8/27/f768x1-5662_5789_119.jpg\">\n",
    "\n"
   ]
  },
  {
   "cell_type": "markdown",
   "id": "a08208d1-cc99-44db-8ace-4bc54bbf0591",
   "metadata": {},
   "source": [
    "### **<span style=\"color:green\">Comenzamos con los clasificadores</span>.**"
   ]
  },
  {
   "cell_type": "code",
   "execution_count": 13,
   "id": "dab7f3e8-c1f3-4112-affc-bfdf23f3a185",
   "metadata": {
    "tags": []
   },
   "outputs": [],
   "source": [
    "from sklearn.model_selection import cross_val_predict\n",
    "from sklearn.model_selection import cross_val_score\n",
    "from sklearn.metrics import (confusion_matrix, accuracy_score)\n",
    "from sklearn.tree import DecisionTreeClassifier\n",
    "from sklearn.neighbors import KNeighborsClassifier\n",
    "from sklearn.naive_bayes import GaussianNB\n",
    "from sklearn.ensemble import AdaBoostClassifier, RandomForestClassifier\n",
    "from sklearn.linear_model import LogisticRegression\n",
    "from sklearn.ensemble import VotingClassifier\n",
    "from sklearn.metrics import accuracy_score, classification_report\n",
    "from sklearn.svm import SVC\n",
    "from sklearn.gaussian_process import GaussianProcessClassifier\n",
    "from sklearn.model_selection import train_test_split\n",
    "from sklearn.neural_network import MLPClassifier"
   ]
  },
  {
   "cell_type": "code",
   "execution_count": 14,
   "id": "a3f75ce3-9e09-411d-9779-bb29320109b5",
   "metadata": {
    "tags": []
   },
   "outputs": [
    {
     "data": {
      "text/plain": [
       "((7641, 16), (7641,), (2548, 16), (2548,))"
      ]
     },
     "execution_count": 14,
     "metadata": {},
     "output_type": "execute_result"
    }
   ],
   "source": [
    "#Dividimos nuestro DataFrame en conjuntos para entrenamiento y para prueba\n",
    "x_train, x_test, y_train, y_test = train_test_split(X, Y, random_state=0, shuffle=True)\n",
    "x_train.shape, y_train.shape, x_test.shape, y_test.shape"
   ]
  },
  {
   "cell_type": "markdown",
   "id": "c26b8b99-1100-453d-b1d2-d44271a65c57",
   "metadata": {},
   "source": [
    "#### **<span style=\"color:purple\">Árboles de decisión</span>.**"
   ]
  },
  {
   "cell_type": "code",
   "execution_count": 15,
   "id": "5b98bdef-1b34-46bb-b2e7-7c21a31af5bb",
   "metadata": {
    "tags": []
   },
   "outputs": [
    {
     "name": "stdout",
     "output_type": "stream",
     "text": [
      "Decision tree score: 0.937\n",
      "Confusion Matrix : \n",
      " [[1390   49    5   20   47]\n",
      " [  41 1677   23   41   47]\n",
      " [   8   29 1424   12   32]\n",
      " [  17   31   19 1263   24]\n",
      " [  53   39   30   33 1287]]\n"
     ]
    }
   ],
   "source": [
    "clf1 = DecisionTreeClassifier()\n",
    "clf1 = clf1.fit(x_train, y_train)\n",
    "y_pred = clf1.predict(x_test)\n",
    "print(\"Decision tree score: {:.3f}\".format(accuracy_score(y_test, y_pred)))\n",
    "\n",
    "#Realizamos la predicción por medio de la validación cruzada con k=10\n",
    "y_pred = cross_val_predict(clf1, x_train, y_train, cv=10)\n",
    "\n",
    "cm = confusion_matrix(y_train, y_pred) \n",
    "print (\"Confusion Matrix : \\n\", cm) "
   ]
  },
  {
   "cell_type": "markdown",
   "id": "b0019ecd-10d3-4949-9d5a-0bdd4050d544",
   "metadata": {},
   "source": [
    "#### **<span style=\"color:purple\">Naive Bayes</span>.**"
   ]
  },
  {
   "cell_type": "code",
   "execution_count": 16,
   "id": "9f8494d3-a43e-46a8-b85f-43ae1c67d7c6",
   "metadata": {
    "tags": []
   },
   "outputs": [
    {
     "name": "stdout",
     "output_type": "stream",
     "text": [
      "Confusion Matrix : \n",
      " [[583 313 256 160 199]\n",
      " [ 17 621 467 270 454]\n",
      " [  0 415 963   0 127]\n",
      " [ 69 382 124 678 101]\n",
      " [102 472  71 369 428]]\n",
      "Test accuracy =  0.42834707499018454\n"
     ]
    }
   ],
   "source": [
    "clasificador2 = GaussianNB()\n",
    "\n",
    "#Realizamos la predicción por medio de la validación cruzada con k=10\n",
    "y_pred = cross_val_predict(clasificador2, x_train, y_train, cv=10)\n",
    "\n",
    "cm = confusion_matrix(y_train, y_pred) \n",
    "print (\"Confusion Matrix : \\n\", cm) \n",
    "  \n",
    "# accuracy score of the model\n",
    "print('Test accuracy = ', accuracy_score(y_train, y_pred))"
   ]
  },
  {
   "cell_type": "markdown",
   "id": "d3d351af-a988-4920-8063-40c3148c2409",
   "metadata": {},
   "source": [
    "#### **<span style=\"color:purple\">Random Forest</span>.**"
   ]
  },
  {
   "cell_type": "code",
   "execution_count": 17,
   "id": "9bc9f3ba-2e85-462d-90de-3366db2b33ac",
   "metadata": {
    "tags": []
   },
   "outputs": [
    {
     "name": "stdout",
     "output_type": "stream",
     "text": [
      "Random Forest score: 0.963\n"
     ]
    }
   ],
   "source": [
    "clf3 = RandomForestClassifier()\n",
    "clf3 = clf3.fit(x_train, y_train)\n",
    "y_pred = clf3.predict(x_test)\n",
    "print(\"Random Forest score: {:.3f}\".format(accuracy_score(y_test,y_pred)))"
   ]
  },
  {
   "cell_type": "markdown",
   "id": "3aba99c3-502c-46dc-a921-fcad4ea56255",
   "metadata": {},
   "source": [
    "#### **<span style=\"color:purple\">Neural Net</span>.**"
   ]
  },
  {
   "cell_type": "code",
   "execution_count": 18,
   "id": "bf075192-8f1a-44fb-afaf-ce8054765ee6",
   "metadata": {
    "tags": []
   },
   "outputs": [
    {
     "name": "stdout",
     "output_type": "stream",
     "text": [
      "Confusion Matrix : \n",
      " [[ 815  131  274    0  291]\n",
      " [  36 1418  317   14   44]\n",
      " [ 158  202 1055    0   90]\n",
      " [ 143  193  124  828   66]\n",
      " [ 255   95  108  152  832]]\n",
      "Test accuracy =  0.6475592199973825\n"
     ]
    }
   ],
   "source": [
    "clasificador4 = MLPClassifier(alpha=1, max_iter=1000, random_state=42)\n",
    "#Realizamos la predicción por medio de la validación cruzada con k=10\n",
    "y_pred = cross_val_predict(clasificador4, x_train, y_train, cv=10)\n",
    "cm = confusion_matrix(y_train, y_pred) \n",
    "print (\"Confusion Matrix : \\n\", cm) \n",
    "  \n",
    "# accuracy score of the model\n",
    "print('Test accuracy = ', accuracy_score(y_train, y_pred))"
   ]
  },
  {
   "cell_type": "markdown",
   "id": "16459b83-beb4-426a-b6e6-25d01617f196",
   "metadata": {},
   "source": [
    "#### **<span style=\"color:purple\">SVM</span>.**"
   ]
  },
  {
   "cell_type": "code",
   "execution_count": 19,
   "id": "9eedb7f5-090f-4596-996e-31a55075014e",
   "metadata": {
    "tags": []
   },
   "outputs": [
    {
     "name": "stdout",
     "output_type": "stream",
     "text": [
      "Confusion Matrix : \n",
      " [[1215  142   17    0  137]\n",
      " [  40 1625   13   15  136]\n",
      " [  14  113 1099    2  277]\n",
      " [ 130   74    7 1012  131]\n",
      " [ 131  107   23   12 1169]]\n",
      "Test accuracy =  0.800942285041225\n"
     ]
    }
   ],
   "source": [
    "clasificador5 = SVC(gamma=2, C=1, random_state=42)\n",
    "#Realizamos la predicción por medio de la validación cruzada con k=10\n",
    "y_pred = cross_val_predict(clasificador5, x_train, y_train, cv=10)\n",
    "cm = confusion_matrix(y_train, y_pred) \n",
    "print (\"Confusion Matrix : \\n\", cm) \n",
    "  \n",
    "# accuracy score of the model\n",
    "print('Test accuracy = ', accuracy_score(y_train, y_pred))\n"
   ]
  },
  {
   "cell_type": "markdown",
   "id": "1f2ed294-afbf-4c78-bcf3-e902d02e7777",
   "metadata": {},
   "source": [
    "### **<span style=\"color:orange\">Comparamos con MetaModelos</span>.**"
   ]
  },
  {
   "cell_type": "code",
   "execution_count": 20,
   "id": "4c47cbbd-06c3-4222-a620-17cf641ca862",
   "metadata": {
    "tags": []
   },
   "outputs": [],
   "source": [
    "#Método de validación\n",
    "from sklearn.model_selection import StratifiedShuffleSplit\n",
    "from sklearn.metrics import f1_score #Conocer la precisión de nuestros modelos \n",
    "from numpy import mean #Conocer la media o promedio de los 5 conjuntos "
   ]
  },
  {
   "cell_type": "code",
   "execution_count": 21,
   "id": "afd75fc0-30f2-4eaf-ab89-209cf2a216e0",
   "metadata": {
    "tags": []
   },
   "outputs": [],
   "source": [
    "sss = StratifiedShuffleSplit(n_splits=5, test_size=0.2, random_state=0)"
   ]
  },
  {
   "cell_type": "markdown",
   "id": "676cc84a-00c1-4bcc-8bd3-a7f4581decaf",
   "metadata": {},
   "source": [
    "#### **<span style=\"color:purple\">Árboles de decisión</span>.**"
   ]
  },
  {
   "cell_type": "code",
   "execution_count": 22,
   "id": "bb2daddc-4115-49d4-bca1-f63a24a802f5",
   "metadata": {
    "tags": []
   },
   "outputs": [
    {
     "name": "stdout",
     "output_type": "stream",
     "text": [
      "[0.9279280061851939, 0.938665955768163, 0.9219505838428971, 0.9267118311757075, 0.9420532246645245]\n",
      "0.9314619203272972\n"
     ]
    }
   ],
   "source": [
    "clf_ddt = DecisionTreeClassifier()\n",
    "scores = []\n",
    "\n",
    "for train_index, test_index in sss.split(X, Y):\n",
    "    X_train, X_test = X.iloc[train_index], X.iloc[test_index]\n",
    "    y_train, y_test = Y.iloc[train_index], Y.iloc[test_index]\n",
    "    clf_ddt.fit(X_train, y_train)\n",
    "    y_pred = clf_ddt.predict(X_test)\n",
    "    scores.append(f1_score(y_test, y_pred, average='weighted'))\n",
    "\n",
    "print(scores)\n",
    "print(mean(scores))\n"
   ]
  },
  {
   "cell_type": "markdown",
   "id": "266355ff-8654-4824-8565-9636b640c21d",
   "metadata": {},
   "source": [
    "#### **<span style=\"color:purple\">Naive Bayes</span>.**"
   ]
  },
  {
   "cell_type": "code",
   "execution_count": 23,
   "id": "5be82b61-8d8b-47b0-b4f5-ecd4d2c64438",
   "metadata": {
    "tags": []
   },
   "outputs": [
    {
     "name": "stdout",
     "output_type": "stream",
     "text": [
      "[0.4352481765938546, 0.4425024763171764, 0.4305168835051235, 0.41850540475884584, 0.40935635212841126]\n",
      "0.42722585866068236\n"
     ]
    }
   ],
   "source": [
    "clf_nb = GaussianNB()\n",
    "scores = []\n",
    "\n",
    "for train_index, test_index in sss.split(X, Y):\n",
    "    X_train, X_test = X.iloc[train_index], X.iloc[test_index]\n",
    "    y_train, y_test = Y.iloc[train_index], Y.iloc[test_index]\n",
    "    clf_nb.fit(X_train, y_train)\n",
    "    y_pred = clf_nb.predict(X_test)\n",
    "    scores.append(f1_score(y_test, y_pred, average='weighted'))\n",
    "\n",
    "print(scores)\n",
    "print(mean(scores))"
   ]
  },
  {
   "cell_type": "markdown",
   "id": "7aaeb65f-50b6-4e6a-a191-d5b69fde1560",
   "metadata": {},
   "source": [
    "## Resultados con clasificadores y Metamodelos \n",
    "\n",
    "#### **<span style=\"color:red\">Clasificadores</span>.**\n",
    "\n",
    "|Clasificador | Score |\n",
    "|----------|----------|\n",
    "| Arboles de Desición   | 0.91   |\n",
    "|Naive Bayes     | 0.57 |\n",
    "|Neural Net| 0.69 |\n",
    "|SVM| 0.81|\n",
    "|Random Forest| 0.96 |\n",
    "\n",
    "#### **<span style=\"color:red\">Metamodelos</span>.**\n",
    "\n",
    "|Clasificador | Precision |\n",
    "|----------|----------|\n",
    "| Arboles de decisión   | 0.91   |\n",
    "| Naive Bayes     | 0.56 |\n",
    "\n",
    "En este análisis de clasificadores, los Árboles de Decisión emergen como la opción más efectiva con un destacado score de 0.91, tanto individualmente como en un metamodelo. En contraste, Naive Bayes presenta un rendimiento inferior, evidenciado por su score de 0.57, y esta tendencia se mantiene en el metamodelo. Las Redes Neuronales, con un score de 0.69, podrían beneficiarse de ajustes adicionales en hiperparámetros o arquitecturas más complejas. Por otro lado, las Máquinas de Soporte Vectorial (SVM) muestran solidez con un score de 0.81. La precisión del metamodelo refleja en gran medida el rendimiento de los clasificadores individuales, indicando que, en algunos casos, la combinación de modelos no necesariamente mejora la precisión. \n",
    "\n"
   ]
  },
  {
   "cell_type": "markdown",
   "id": "2687d44f-0e98-4711-8400-7caba118b41a",
   "metadata": {},
   "source": [
    "# **<span style=\"color:#0000FF\">5. Validación Externa</span>**\n"
   ]
  },
  {
   "cell_type": "code",
   "execution_count": 24,
   "id": "d4558b7b-60b9-40d1-9d72-8e119f4aaefd",
   "metadata": {
    "tags": []
   },
   "outputs": [],
   "source": [
    "df = pd.read_csv('FULL.csv')\n"
   ]
  },
  {
   "cell_type": "code",
   "execution_count": 25,
   "id": "507835a0-ee01-418a-b379-abb866af427f",
   "metadata": {
    "tags": []
   },
   "outputs": [],
   "source": [
    "X = df.iloc[:, 2:-1]\n"
   ]
  },
  {
   "cell_type": "code",
   "execution_count": 26,
   "id": "6ddef9a6-0e70-4e8b-9e5f-1b32a814ad49",
   "metadata": {
    "tags": []
   },
   "outputs": [],
   "source": [
    "import cv2\n",
    "import mediapipe as mp\n",
    "import numpy as np\n",
    "import pandas as pd\n",
    "from sklearn.tree import DecisionTreeClassifier\n",
    "import warnings\n",
    "warnings.simplefilter(\"ignore\")\n",
    "\n",
    "# Inicializar MediaPipe para la detección de rostros\n",
    "mp_face_detection = mp.solutions.face_detection\n",
    "mp_drawing = mp.solutions.drawing_utils\n",
    "clfF = DecisionTreeClassifier()\n",
    "clfF.fit(X, Y)\n",
    "def extract_features(detection, image_width, image_height):\n",
    "    bboxC = detection.location_data.relative_bounding_box\n",
    "    xmin = bboxC.xmin * image_width\n",
    "    ymin = bboxC.ymin * image_height\n",
    "    width = bboxC.width * image_width\n",
    "    height = bboxC.height * image_height\n",
    "\n",
    "    landmarks_relative = []\n",
    "    keypoints = detection.location_data.relative_keypoints\n",
    "    for keypoint in keypoints:\n",
    "        relative_x = keypoint.x * image_width\n",
    "        relative_y = keypoint.y * image_height\n",
    "        landmarks_relative.extend([relative_x, relative_y])\n",
    "\n",
    "    detection_data = [xmin, ymin, width, height] + landmarks_relative\n",
    "    return detection_data\n",
    "\n",
    "cap = cv2.VideoCapture(0)\n",
    "with mp_face_detection.FaceDetection(model_selection=1, min_detection_confidence=0.5) as face_detection:\n",
    "    while cap.isOpened():\n",
    "        success, image = cap.read()\n",
    "        if not success:\n",
    "            print(\"Ignoring empty camera frame.\")\n",
    "            continue\n",
    "\n",
    "        image_height, image_width, _ = image.shape\n",
    "        image_rgb = cv2.cvtColor(image, cv2.COLOR_BGR2RGB)\n",
    "        image_rgb.flags.writeable = False\n",
    "        results = face_detection.process(image_rgb)\n",
    "\n",
    "        image_rgb.flags.writeable = True\n",
    "        image = cv2.cvtColor(image_rgb, cv2.COLOR_RGB2BGR)\n",
    "\n",
    "        if results.detections:\n",
    "            for detection in results.detections:\n",
    "                features = extract_features(detection, image_width, image_height)\n",
    "                features_array = np.array(features).reshape(1, -1)\n",
    "\n",
    "                if features_array.shape[1] == X.shape[1]:\n",
    "                    prediction = clfF.predict(features_array)\n",
    "                    label = f\"Clase: {prediction[0]}\"\n",
    "                else:\n",
    "                    label = \"Incompatible feature set\"\n",
    "\n",
    "                # Obtener las coordenadas del cuadro delimitador para colocar el texto de manera dinámica\n",
    "                bboxC = detection.location_data.relative_bounding_box\n",
    "                x = int(bboxC.xmin * image_width)\n",
    "                y = int(bboxC.ymin * image_height)\n",
    "\n",
    "                mp_drawing.draw_detection(image, detection)\n",
    "                # Colocar el texto justo encima del cuadro delimitador de la detección\n",
    "                cv2.putText(image, label, (x, y-10), cv2.FONT_HERSHEY_SIMPLEX, 1, (0, 255, 0), 2)\n",
    "\n",
    "        cv2.imshow('Face Detection and Classification', image)\n",
    "        if cv2.waitKey(5) != -1:\n",
    "            break\n",
    "\n",
    "cap.release()\n",
    "cv2.destroyAllWindows()\n"
   ]
  },
  {
   "cell_type": "markdown",
   "id": "31c8b39e-c039-4455-84fd-eab7e9edea38",
   "metadata": {},
   "source": [
    "# **<span style=\"color:#0000FF\">5. Validación Externa (Intento con videos externos)</span>**\n",
    "\n",
    "Dado que al hacer la validación externa con Live Recognition, vamos a realizar un nuevo intento de validación, la cual consistio en:\n",
    "\n",
    "1. Grabar las 5 clases de los videos por aparte \n",
    "2. Realizar el reconocimiento de patrones y guardarlo en .csv's correspondientes \n",
    "3. Leer los archivos generados para conocer si nuestro modelo aprendio de manera correcta con nuestros datos "
   ]
  },
  {
   "cell_type": "code",
   "execution_count": 27,
   "id": "8528bca5-06a3-4f05-ac7a-3bb5f03b67c1",
   "metadata": {
    "tags": []
   },
   "outputs": [],
   "source": [
    "df_Derecha = pd.read_csv('Prueba_Derecha.csv')\n",
    "df_Izquierda = pd.read_csv('Prueba_Izquierda.csv')\n",
    "df_Frente = pd.read_csv('Prueba_Frente.csv')\n",
    "df_Palanca = pd.read_csv('Prueba_Palanca.csv')\n",
    "df_Retrovisor = pd.read_csv('Prueba_Retrovisor.csv')"
   ]
  },
  {
   "cell_type": "code",
   "execution_count": 28,
   "id": "b2cfcb31-a2cf-4064-a69b-db018b80c6d4",
   "metadata": {
    "tags": []
   },
   "outputs": [],
   "source": [
    "df_Derecha = df_Derecha.drop(['video_name'], axis=1)\n",
    "df_Frente = df_Frente.drop(['video_name'], axis=1)\n",
    "df_Izquierda = df_Izquierda.drop(['video_name'], axis=1)\n",
    "df_Palanca = df_Palanca.drop(['video_name'],axis=1)\n",
    "df_Retrovisor = df_Retrovisor.drop(['video_name'], axis=1)"
   ]
  },
  {
   "cell_type": "code",
   "execution_count": 29,
   "id": "d593ee00-f1c0-4592-a0ff-e5b5a7ac5a0a",
   "metadata": {
    "tags": []
   },
   "outputs": [
    {
     "data": {
      "text/html": [
       "<style>#sk-container-id-1 {color: black;}#sk-container-id-1 pre{padding: 0;}#sk-container-id-1 div.sk-toggleable {background-color: white;}#sk-container-id-1 label.sk-toggleable__label {cursor: pointer;display: block;width: 100%;margin-bottom: 0;padding: 0.3em;box-sizing: border-box;text-align: center;}#sk-container-id-1 label.sk-toggleable__label-arrow:before {content: \"▸\";float: left;margin-right: 0.25em;color: #696969;}#sk-container-id-1 label.sk-toggleable__label-arrow:hover:before {color: black;}#sk-container-id-1 div.sk-estimator:hover label.sk-toggleable__label-arrow:before {color: black;}#sk-container-id-1 div.sk-toggleable__content {max-height: 0;max-width: 0;overflow: hidden;text-align: left;background-color: #f0f8ff;}#sk-container-id-1 div.sk-toggleable__content pre {margin: 0.2em;color: black;border-radius: 0.25em;background-color: #f0f8ff;}#sk-container-id-1 input.sk-toggleable__control:checked~div.sk-toggleable__content {max-height: 200px;max-width: 100%;overflow: auto;}#sk-container-id-1 input.sk-toggleable__control:checked~label.sk-toggleable__label-arrow:before {content: \"▾\";}#sk-container-id-1 div.sk-estimator input.sk-toggleable__control:checked~label.sk-toggleable__label {background-color: #d4ebff;}#sk-container-id-1 div.sk-label input.sk-toggleable__control:checked~label.sk-toggleable__label {background-color: #d4ebff;}#sk-container-id-1 input.sk-hidden--visually {border: 0;clip: rect(1px 1px 1px 1px);clip: rect(1px, 1px, 1px, 1px);height: 1px;margin: -1px;overflow: hidden;padding: 0;position: absolute;width: 1px;}#sk-container-id-1 div.sk-estimator {font-family: monospace;background-color: #f0f8ff;border: 1px dotted black;border-radius: 0.25em;box-sizing: border-box;margin-bottom: 0.5em;}#sk-container-id-1 div.sk-estimator:hover {background-color: #d4ebff;}#sk-container-id-1 div.sk-parallel-item::after {content: \"\";width: 100%;border-bottom: 1px solid gray;flex-grow: 1;}#sk-container-id-1 div.sk-label:hover label.sk-toggleable__label {background-color: #d4ebff;}#sk-container-id-1 div.sk-serial::before {content: \"\";position: absolute;border-left: 1px solid gray;box-sizing: border-box;top: 0;bottom: 0;left: 50%;z-index: 0;}#sk-container-id-1 div.sk-serial {display: flex;flex-direction: column;align-items: center;background-color: white;padding-right: 0.2em;padding-left: 0.2em;position: relative;}#sk-container-id-1 div.sk-item {position: relative;z-index: 1;}#sk-container-id-1 div.sk-parallel {display: flex;align-items: stretch;justify-content: center;background-color: white;position: relative;}#sk-container-id-1 div.sk-item::before, #sk-container-id-1 div.sk-parallel-item::before {content: \"\";position: absolute;border-left: 1px solid gray;box-sizing: border-box;top: 0;bottom: 0;left: 50%;z-index: -1;}#sk-container-id-1 div.sk-parallel-item {display: flex;flex-direction: column;z-index: 1;position: relative;background-color: white;}#sk-container-id-1 div.sk-parallel-item:first-child::after {align-self: flex-end;width: 50%;}#sk-container-id-1 div.sk-parallel-item:last-child::after {align-self: flex-start;width: 50%;}#sk-container-id-1 div.sk-parallel-item:only-child::after {width: 0;}#sk-container-id-1 div.sk-dashed-wrapped {border: 1px dashed gray;margin: 0 0.4em 0.5em 0.4em;box-sizing: border-box;padding-bottom: 0.4em;background-color: white;}#sk-container-id-1 div.sk-label label {font-family: monospace;font-weight: bold;display: inline-block;line-height: 1.2em;}#sk-container-id-1 div.sk-label-container {text-align: center;}#sk-container-id-1 div.sk-container {/* jupyter's `normalize.less` sets `[hidden] { display: none; }` but bootstrap.min.css set `[hidden] { display: none !important; }` so we also need the `!important` here to be able to override the default hidden behavior on the sphinx rendered scikit-learn.org. See: https://github.com/scikit-learn/scikit-learn/issues/21755 */display: inline-block !important;position: relative;}#sk-container-id-1 div.sk-text-repr-fallback {display: none;}</style><div id=\"sk-container-id-1\" class=\"sk-top-container\"><div class=\"sk-text-repr-fallback\"><pre>RandomForestClassifier()</pre><b>In a Jupyter environment, please rerun this cell to show the HTML representation or trust the notebook. <br />On GitHub, the HTML representation is unable to render, please try loading this page with nbviewer.org.</b></div><div class=\"sk-container\" hidden><div class=\"sk-item\"><div class=\"sk-estimator sk-toggleable\"><input class=\"sk-toggleable__control sk-hidden--visually\" id=\"sk-estimator-id-1\" type=\"checkbox\" checked><label for=\"sk-estimator-id-1\" class=\"sk-toggleable__label sk-toggleable__label-arrow\">RandomForestClassifier</label><div class=\"sk-toggleable__content\"><pre>RandomForestClassifier()</pre></div></div></div></div></div>"
      ],
      "text/plain": [
       "RandomForestClassifier()"
      ]
     },
     "execution_count": 29,
     "metadata": {},
     "output_type": "execute_result"
    }
   ],
   "source": [
    "from sklearn.tree import DecisionTreeClassifier #DecisionTreeClassifier()\n",
    "from sklearn.ensemble import RandomForestClassifier #RandomForestClassifier()\n",
    "clfF = RandomForestClassifier()\n",
    "clfF.fit(X, Y)"
   ]
  },
  {
   "cell_type": "markdown",
   "id": "cba80d1f-2d25-4ca7-994c-6586b5e67ddc",
   "metadata": {},
   "source": [
    "### **<span style=\"color:orange\">Derecha</span>**"
   ]
  },
  {
   "cell_type": "code",
   "execution_count": 30,
   "id": "bb04deea-b6a8-4c62-9431-361f6cd1bc15",
   "metadata": {
    "tags": []
   },
   "outputs": [
    {
     "name": "stdout",
     "output_type": "stream",
     "text": [
      "Las clases correspondientes son;\n",
      "*Retrovisor-->4\n",
      "*Palanca-->3\n",
      "*Izquierda-->2\n",
      "*Frente-->1\n",
      "*Derecha-->0\n",
      "\n",
      "La predicción del video de prueba es: [0 0 0 0 0 0 0 0 0 0 0 0 0 0 0 0 0 0 0 0 0 0 0 0 0 0 0 0 0 0 0 0 0 0 0 0 0\n",
      " 0 0 0 0 0 0 0 0 0 0 0 0 0 0 0 0 0 0 0 0 0 0 0 0 0 0 0 0 0 0 0 0 0 0 0 0 0\n",
      " 0 0 0 0 0 0 0 0 0 0 0 0 0 0 0 0 0 0 0 0 0 0 0 0 0 0 0 0 0 0 0 0 0 0 0 0 0\n",
      " 0 0 0 0 0 0 0 0 0 0 0 0 0 0 0 0 0 0 0 0 0 0 0 0 0 0 0 0 0 0 0 0 0 0 0 0 0\n",
      " 0 0 0 0 0 0 0 0 0 0 0 0 0 0 0 0 0 0 0 0 0 0 0 0 0 0 0 0 0 0 0 0 0 0 0 0 0\n",
      " 0 0 0 0 0 0 0 0 0 0 0 0 0 0 0 0 0 0 0 0 0 0 0 0 0 0 0 0 0 0 0 0 0 0 0 0 0\n",
      " 0 0 0 0 0 0 0 0 0 0 0 0 0 0 0 0 0 0 0 0 0 0 0 0 0 0 0 0 0 0 0 0 0 0 0 0 0\n",
      " 0 0 0 0 0 0 0 0 0 0 0 0 0 0 0 0 0 0 0 0 0 0 0 0 0 0 0 0 0 0 0 0 0 0 0 0 0\n",
      " 0 0 0 0 0 0 0 0 0 0 0 0 0 0 0 0 0 0 0 0 0 0 0 0 0 0 0 0 0 0 0 0 0 0 0 0 0\n",
      " 0 0 0 0 0 0 0 0 0 0 0 0 0 0 0 0 0 0 0 0 0 0 0 0 0 0 0 0 0 0 0 0 0 0 0 0 0\n",
      " 0 0 0 0 0 0 0 0 0 0 0 0 0 0 0 0 0 0 0 0 0 0 0 0 0 0 0 0 0 0 0 0 0 0 0 0 0\n",
      " 0 0 0 0 0 0 0 0 0 0 0 0 0 0 0 0 0 0 0 0 0 0 0 0 0 0 0 0 0 0 0 0 0 0 0 0 0\n",
      " 0 0 0 0 0 0 0 0 0 0 0 0 0 0 0 0 0 0 0 0 0 0 0 0 0 0 0 0 0 0 0 0 0 0 0 0 0\n",
      " 0 0 0 0 0 0 0 0 0 0 0 0 0 0 0 0 0 0 0 0 0 0 0 0 0 0 0 0 0 0 0 0 0 0 0 0 0\n",
      " 0 0 0 0 0 0 0 0 0 0 0 0 0 0 0 0 0 0 0 0 0 0 0 0 0 0 0 0 0 0 0 0 0 0 0 0 0\n",
      " 0 0 0 0 0 0 0 0 0 0 0 0 0 0 0 0 0 0 0 0 0 0 0 0 0 0 0 0 0 0 0 0 0 0 0 0 0\n",
      " 0 0 0 0 0 0 0 0 0 0 0 0 0 0 0 0 0 0 0 0 0 0 0 0 0 0 0 0 0 0 0 0 0 0 0 0 0\n",
      " 0 0 0 0 0 0 0 0 0 0 0 0 0 0 0 0 0 0 0 0 0 0 0 0 0 0 0 0 0 0 0 0 0 0 0 0 0\n",
      " 0 0 0 0 0 0 0 0 0 0 0 0 0 0 0 0 0 0 0 0 0 0 0 0 0 0 0 0 0 0 0 0 0 0 0 0 0\n",
      " 0 0 0 0 0 0 0 0 0 0 0 0 0 0 0 0 0 0 0 0 0 0 0 0 0 0 0 0 0 0 0 0 0 0 0 0 0\n",
      " 0 0 0 0 0 0 0 0 0 0 0 0 0 0 0 0 0 0 0 0]\n"
     ]
    }
   ],
   "source": [
    "prediccion_derecha = clfF.predict(df_Derecha)\n",
    "print(\"Las clases correspondientes son;\\n*Retrovisor-->4\\n*Palanca-->3\\n*Izquierda-->2\\n*Frente-->1\\n*Derecha-->0\\n\")\n",
    "print(\"La predicción del video de prueba es:\", prediccion_derecha)"
   ]
  },
  {
   "cell_type": "markdown",
   "id": "7c76dd78-155e-4fda-95b6-366347799d15",
   "metadata": {},
   "source": [
    "### **<span style=\"color:orange\">Frente</span>**"
   ]
  },
  {
   "cell_type": "code",
   "execution_count": 31,
   "id": "7c9c963c-ffa2-493f-a8b7-38d9b7257af7",
   "metadata": {},
   "outputs": [
    {
     "name": "stdout",
     "output_type": "stream",
     "text": [
      "Las clases correspondientes son;\n",
      "*Retrovisor-->4\n",
      "*Palanca-->3\n",
      "*Izquierda-->2\n",
      "*Frente-->1\n",
      "*Derecha-->0\n",
      "\n",
      "La prediccón del video de prueba es: [1 1 1 1 1 1 1 1 1 1 1 1 1 1 1 1 1 1 1 1 1 1 1 1 1 1 1 1 1 1 1 1 1 1 1 1 1\n",
      " 1 1 1 1 1 1 1 1 1 1 1 1 1 1 1 1 1 1 1 1 1 1 1 1 1 1 1 1 1 1 1 1 1 1 1 1 1\n",
      " 1 1 1 1 1 1 1 1 1 1 1 1 1 1 1 1 1 1 1 1 1 1 1 1 1 1 1 1 1 1 1 1 1 1 1 1 1\n",
      " 1 1 1 1 1 1 1 1 1 1 1 1 1 1 1 1 1 1 1 1 1 1 1 1 1 1 1 1 1 1 1 1 1 1 1 1 1\n",
      " 1 1 1 1 1 1 1 1 1 1 1 1 1 1 1 1 1 1 1 1 1 1 1 1 1 1 1 1 1 1 1 1 1 1 1 1 1\n",
      " 1 1 1 1 1 1 1 1 1 1 1 1 1 1 1 1 1 1 1 1 1 1 1 1 1 1 1 1 1 1 1 1 1 1 1 1 1\n",
      " 1 1 1 1 1 1 1 1 1 1 1 1 1 1 1 1 1 1 1 1 1 1 1 1 1 1 1 1 1 1 1 1 2 2 2 2 2\n",
      " 2 2 2 2 2 2 1 1 1 1 1 1 1 1 1 1 1 1 1 1 1 1 1 1 1 1 1 1 1 1 1 1 1 1 1 1 1\n",
      " 1 1 1 1 1 1 1 1 1 1 1 1 1 1 1 1 1 1 1 1 1 1 1 1 1 1 1 1 1 1 1 1 1 1 1 1 1\n",
      " 1 1 1 1 1 1 1 1 1 1 1 1 1 1 1 1 1 1 1 1 1 1 1 1 1 1 1 1 1 1 1 1 1 1 1 1 1\n",
      " 1 1 1 1 1 1 1 1 1 1 1 1 1 1 1 1 1 1 1 1 1 1 1 1 1 1 1 1 1 1 1 1 1 1 1 1 1\n",
      " 1 1 1 1 1 1 1 1 1 1 1 1 1 1 1 1 1 1 4 4 4 4 3 4 4 1 1 1 1 1 1 1 1 1 1 1 1\n",
      " 1 1 1 1 1 1 1 1 1 1 1 1 1 1 1 1 1 1 1 1 1 1 1 1 1 1 1 1 1 1 1 1 1 1 1 4 4\n",
      " 4 4 4 4 4 4 4 4 4 3 3 1 1 1 1 1 1 1 1 1 1 1 1 1 1 1 1 1 1 1 1 1 1 1 1 1 1\n",
      " 1 1 2 2 2 2 2 2 2 2 2 2 2 2 2 2 2 2 2 2 2 2 2 2 1 1 1 1 1 1 1 1 1 1 1 1 1\n",
      " 1 1 1 1 1 1 1 1 1 1 1 1 1 1 1 1 1 1 1 1 1 1 1 1 1 1 1 1 1 1 1 1 1 1 1 1 1\n",
      " 1 1 1 1 1 1 1 1 1 1 1 1 1 1 1 1 1 1 1 1 1 1 1 2 2 2 2 2 2 2 2 2 2 2 2 2 2\n",
      " 2 2 2 1 1 1 1 1 1 1 1 1 1 1 1 1 1 1 1 1 1 1 1 1 1 1 1 1 1 1 1 1 1 1 1 1 1\n",
      " 1 1 1 1 1 1]\n"
     ]
    }
   ],
   "source": [
    "prediccion_frente = clfF.predict(df_Frente)\n",
    "print(\"Las clases correspondientes son;\\n*Retrovisor-->4\\n*Palanca-->3\\n*Izquierda-->2\\n*Frente-->1\\n*Derecha-->0\\n\")\n",
    "print('La prediccón del video de prueba es:', prediccion_frente)"
   ]
  },
  {
   "cell_type": "markdown",
   "id": "1ed94203-e778-4f6e-a1a5-de52db7ba879",
   "metadata": {},
   "source": [
    "### **<span style=\"color:orange\">Izquierda</span>**"
   ]
  },
  {
   "cell_type": "code",
   "execution_count": 32,
   "id": "4dda1daa-33d6-427d-b60c-9aa1d6ef7fdd",
   "metadata": {
    "tags": []
   },
   "outputs": [
    {
     "name": "stdout",
     "output_type": "stream",
     "text": [
      "Las clases correspondientes son;\n",
      "*Retrovisor-->4\n",
      "*Palanca-->3\n",
      "*Izquierda-->2\n",
      "*Frente-->1\n",
      "*Derecha-->0\n",
      "\n",
      "La predicción del video de prueba es: [2 2 2 2 2 2 2 2 2 2 2 2 2 2 2 2 2 2 2 2 2 2 2 2 2 2 2 2 2 2 2 2 2 2 2 2 2\n",
      " 2 2 2 2 2 2 2 2 2 2 2 2 2 2 2 2 2 2 2 2 2 2 2 2 2 2 2 2 2 2 2 2 2 2 2 2 2\n",
      " 2 2 2 2 2 2 2 2 2 2 2 2 2 2 2 2 2 2 2 2 2 2 2 2 2 2 2 2 2 2 2 2 2 2 2 2 2\n",
      " 2 2 2 2 2 2 2 2 2 2 2 2 2 2 2 2 2 2 2 2 2 2 2 2 2 2 2 2 2 2 2 2 2 2 2 2 2\n",
      " 2 2 2 2 2 2 2 2 2 2 2 2 2 2 2 2 2 2 2 2 2 2 2 2 2 2 2 2 2 2 2 2 2 2 2 2 2\n",
      " 2 2 2 2 2 2 2 2 2 2 2 2 2 2 2 2 2 2 2 2 2 2 2 2 2 2 2 2 2 2 2 2 2 2 2 2 2\n",
      " 2 2 2 2 2 2 2 2 2 2 2 2 2 2 2 2 2 2 2 2 2 2 2 2 2 2 2 2 2 2 2 2 2 2 2 2 2\n",
      " 2 2 2 2 2 2 2 2 2 2 2 2 2 2 2 2 2 2 2 2 2 2 2 2 2 2 2 2 2 2 2 2 2 2 2 2 2\n",
      " 2 2 2 2 2 2 2 2 2 2 2 2 2 2 2 2 2 2 2 2 2 2 2 2 2 2 2 2 2 2 2 2 2 2 2 2 2\n",
      " 2 2 2 2 2 2 2 2 2 2 2 2 2 2 2 2 2 2 2 2 2 2 2 2 2 2 2 2 2 2 2 2 2 2 2 2 2\n",
      " 2 2 2 2 2 2 2 2 2 2 2 2 2 2 2 2 2 2 2 2 2 2 2 2 2 2 2 2 2 2 2 2 2 2 2 2 2\n",
      " 2 2 2 2 2 2 2 2 2 2 2 2 2 2 2 2 2 2 2 2 2 2 2 2 2 2 2 2 2 2 2 2 2 2 2 2 2\n",
      " 2 2 2 2 2 2 2 2 2 2 2 2 2 2 2 2 2 2 2 2 2 2 2 2 2 2 2 2 2 2 2 2 2 2 2 2 2\n",
      " 2 2 2 2 2 2 2 2 2 2 2 2 2 2 2 2 2 2 2 2 2 2 2 2 2 2 2 2 2 2 2 2 2 2 2 2 2\n",
      " 2 2 2 2 2 2 2 2 2 2 2 2 2 2 2 2 2 2 2 2 2 2]\n"
     ]
    }
   ],
   "source": [
    "prediccion_izquierda = clfF.predict(df_Izquierda)\n",
    "print(\"Las clases correspondientes son;\\n*Retrovisor-->4\\n*Palanca-->3\\n*Izquierda-->2\\n*Frente-->1\\n*Derecha-->0\\n\")\n",
    "print('La predicción del video de prueba es:', prediccion_izquierda)"
   ]
  },
  {
   "cell_type": "markdown",
   "id": "4079287f-c312-4acd-baca-9081a0db1a97",
   "metadata": {},
   "source": [
    "### **<span style=\"color:orange\">Palanca</span>**"
   ]
  },
  {
   "cell_type": "code",
   "execution_count": 33,
   "id": "8b3faa1b-4681-460c-9417-605464babc19",
   "metadata": {},
   "outputs": [
    {
     "name": "stdout",
     "output_type": "stream",
     "text": [
      "Las clases correspondientes son;\n",
      "*Retrovisor-->4\n",
      "*Palanca-->3\n",
      "*Izquierda-->2\n",
      "*Frente-->1\n",
      "*Derecha-->0\n",
      "\n",
      "La pedicción del video de prueba es: [3 3 3 3 3 3 3 3 3 3 3 3 3 3 3 3 3 3 3 3 3 3 3 3 3 3 3 3 3 3 3 3 3 3 3 3 3\n",
      " 3 3 3 3 3 3 3 3 3 3 3 3 3 3 3 3 3 3 3 3 3 3 3 3 3 3 3 3 3 3 3 3 3 3 3 3 3\n",
      " 3 3 3 3 3 3 3 3 3 3 3 3 3 3 3 3 3 3 3 3 3 3 3 3 3 3 3 0 0 0 0 0 0 0 0 0 0\n",
      " 0 0 0 0 0 0 0 0 0 0 0 0 0 0 0 0 0 0 0 0 0 0 0 0 0 0 0 0 0 0 0 0 0 0 0 0 0\n",
      " 0 0 0 0 0 0 0 0 0 0 0 0 0 0 0 0 0 0 0 0 0 0 0 0 0 0 0 0 0 0 0 0 0 0 0 0 0\n",
      " 0 0 0 0 0 0 0 0 0 0 0 0 3 0 0 0 0 0 0 0 0 0 0 0 0 0 0 0 0 0 0 0 0 0 0 0 0\n",
      " 0 0 0 0 0 0 0 0 0 0 0 0 0 0 0 0 0 0 0 0 0 0 0 0 0 0 0 0 0 0 0 0 0 0 0 0 0\n",
      " 0 0 0 0 0 0 0 0 0 0 0 0 0 0 0 0 0 0 0 0 0 0 0 0 0 0 0 0 0 0 0 0 0 0 0 0 0\n",
      " 0 0 0 0 0 0 0 0 0 0 0 0 0 0 0 0 0 0 0 0 0 0 0 0 0 0 0 0 0 0 0 0 0 0 0 0 0\n",
      " 0 0 0 0 0 0 0 0 0 0 0 0 0 0 0 0 0 0 0 0 0 0 0 0 0 0 0 0 0 0 0 0 0 0 0 0 0\n",
      " 0 0 0 0 0 0 0 0 0 0 0 0 0 0 0 0 0 0 0 0 0 0 0 0 0 0 0 0 0 0 0 0 0 0 0 0 0\n",
      " 0]\n"
     ]
    }
   ],
   "source": [
    "prediccion_palanca = clfF.predict(df_Palanca)\n",
    "print(\"Las clases correspondientes son;\\n*Retrovisor-->4\\n*Palanca-->3\\n*Izquierda-->2\\n*Frente-->1\\n*Derecha-->0\\n\")\n",
    "print('La pedicción del video de prueba es:', prediccion_palanca)"
   ]
  },
  {
   "cell_type": "markdown",
   "id": "d7eee595-7964-489e-9692-05df1fb1886e",
   "metadata": {},
   "source": [
    "### **<span style=\"color:orange\">Retrovisor</span>**"
   ]
  },
  {
   "cell_type": "code",
   "execution_count": 34,
   "id": "70b7c17e-6e1c-4b7d-bfeb-8decdf4aa1f4",
   "metadata": {
    "tags": []
   },
   "outputs": [
    {
     "name": "stdout",
     "output_type": "stream",
     "text": [
      "Las clases correspondientes son;\n",
      "*Retrovisor-->4\n",
      "*Palanca-->3\n",
      "*Izquierda-->2\n",
      "*Frente-->1\n",
      "*Derecha-->0\n",
      "\n",
      "La predicción del video de prueba es: [4 4 4 1 1 1 1 1 1 1 1 1 1 1 1 1 1 1 1 1 1 1 1 1 1 1 1 4 4 4 4 4 4 4 4 4 4\n",
      " 4 4 4 4 4 4 4 4 4 4 4 4 4 4 4 4 4 4 4 4 4 4 4 4 4 4 4 4 4 4 4 4 1 1 1 1 1\n",
      " 1 1 1 1 1 1 1 1 1 1 1 1 1 1 1 1 1 1 1 1 1 4 4 4 4 4 4 4 4 4 4 4 4 4 4 4 4\n",
      " 4 4 4 4 4 4 4 4 4 4 4 4 4 4 4 4 4 4 4 4 4 4 4 4 4 4 1 1 1 1 1 1 1 1 1 1 1\n",
      " 1 1 1 1 1 1 1 1 1 1 1 1 1 1 1 4 4 4 4 4 4 4 4 4 4 4 4 4 4 4 4 4 4 4 4 4 4\n",
      " 4 4 4 4 4 4 4 4 4 4 4 4 4 4 4 4 4 4 4 4 4 4 4 4 4 1 1 1 1 1 1 1 1 1 1 1 1\n",
      " 1 1 1 1 1 1 4 4 4 4 4 4 4 4 4 4 4 4 4 4 4 4 4 4 4 4 4 4 4 4 4 4 4 4 4 4 4\n",
      " 4 4 4 4 4 4 4 4 4 4 4 4 4 4 4 4 4 4 1 1 1 1 4 4 4 4 4 4 4 4 4 4 4 4 4 4 4\n",
      " 4 4 4 1 1 1 1 4 4 4 4 4 4 4 4 4 4 4 4 4 4 4 4 4 4 4 4 4 4 4 4 4 4 4 4 4 4\n",
      " 4 4 4 4 4 4 4 4 4 4 4 4 4 4 4 4 4 4 4 4 4 4 4 4 4 4 4 4 4 4 4 4 4 4 4 4 4\n",
      " 4 4 4 4 4 4 4 4 4 4 4 4 4 4 4 4 4 4 4 4 4 4 4 4 4 4 4 4 4 4 4 4 4 4 4 4 4\n",
      " 4 4 4 4 4 4 4 4 4 4 4 4 4 4 4 4 4 4 4 4 4 4 4 4 4 4 4 4 4 4 4 4 4 4 4 4 4\n",
      " 4 4 4 4 4 4 4 4 4 4 4 4 4 4 4 4 4 4 4 4 4 4 4 4 4 4 4 4 4 4 4 4 4 4 4 4 4\n",
      " 4 4 4 4]\n"
     ]
    }
   ],
   "source": [
    "prediccion_retrovisor = clfF.predict(df_Retrovisor)\n",
    "print(\"Las clases correspondientes son;\\n*Retrovisor-->4\\n*Palanca-->3\\n*Izquierda-->2\\n*Frente-->1\\n*Derecha-->0\\n\")\n",
    "print('La predicción del video de prueba es:', prediccion_retrovisor)"
   ]
  },
  {
   "cell_type": "markdown",
   "id": "7e702b7d-b3f2-4c9c-8819-a35bb93cf1df",
   "metadata": {},
   "source": [
    "# **<span style=\"color:Blue\">Conlcusiones</span>**\n",
    "\n",
    "En este estudio, se llevó a cabo la segmentación de un video en diferentes Puntos de Atención Visual (PAV) según los DataFrames donde se identificaron estos PAV. A continuación, se extrajeron las características de cada uno de los videos, organizados por clases. Toda la información recopilada se almacenó en un archivo .csv, que contiene los detalles de las características faciales.\n",
    "\n",
    "Una vez recopilada toda la información necesaria, se procedió a la visualización y al entrenamiento de los datos obtenidos con el fin de efectuar una clasificación mediante LiveRecognition. Para esto, se ajustó el código para asegurar que los datos estuvieran normalizados y mantuvieran la misma resolución.\n",
    "\n",
    "Durante la fase de validación con LiveRecognition, los resultados no cumplieron con las expectativas ya que el modelo no logró predecir correctamente las clases, a pesar de probar diferentes clasificadores. Por lo tanto, se optó por una estrategia alternativa: se grabaron cinco videos, cada uno correspondiente a una clase distinta, y se extrajeron las mismas características para realizar una nueva serie de predicciones. Los resultados de este enfoque fueron más prometedores, mostrando que el modelo puede identificar correctamente las clases \"Derecha\" e \"Izquierda\". Sin embargo, existió confusión entre las clases \"Frente\" y \"Retrovisor\", y la mayoría de las instancias de la clase \"Palanca\" fueron incorrectamente clasificadas como \"Derecha\".\n",
    "\n",
    "A partir de estos hallazgos, concluimos que los datos utilizados para entrenar los modelos son fiables, aunque no se logró implementar con éxito el reconocimiento en vivo para este proyecto.\n",
    "\n",
    "\n",
    "\n",
    "\n",
    "\n"
   ]
  }
 ],
 "metadata": {
  "kernelspec": {
   "display_name": "Python 3 (ipykernel)",
   "language": "python",
   "name": "python3"
  },
  "language_info": {
   "codemirror_mode": {
    "name": "ipython",
    "version": 3
   },
   "file_extension": ".py",
   "mimetype": "text/x-python",
   "name": "python",
   "nbconvert_exporter": "python",
   "pygments_lexer": "ipython3",
   "version": "3.11.4"
  }
 },
 "nbformat": 4,
 "nbformat_minor": 5
}
